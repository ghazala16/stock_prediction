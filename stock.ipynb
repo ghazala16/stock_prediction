{
 "cells": [
  {
   "cell_type": "code",
   "execution_count": 1,
   "id": "be1e8160-d5b0-4d42-af2c-3cf8736be394",
   "metadata": {},
   "outputs": [],
   "source": [
    "### keras and Tensorflow >2.0"
   ]
  },
  {
   "cell_type": "code",
   "execution_count": 3,
   "id": "0d15c13d",
   "metadata": {},
   "outputs": [
    {
     "name": "stdout",
     "output_type": "stream",
     "text": [
      "Collecting pandas_datareader\n",
      "  Using cached pandas_datareader-0.10.0-py3-none-any.whl (109 kB)\n",
      "Requirement already satisfied: lxml in c:\\users\\dell\\anaconda3\\lib\\site-packages (from pandas_datareader) (4.9.2)\n",
      "Requirement already satisfied: pandas>=0.23 in c:\\users\\dell\\anaconda3\\lib\\site-packages (from pandas_datareader) (1.5.3)\n",
      "Requirement already satisfied: requests>=2.19.0 in c:\\users\\dell\\anaconda3\\lib\\site-packages (from pandas_datareader) (2.31.0)\n",
      "Requirement already satisfied: python-dateutil>=2.8.1 in c:\\users\\dell\\appdata\\roaming\\python\\python311\\site-packages (from pandas>=0.23->pandas_datareader) (2.8.2)\n",
      "Requirement already satisfied: pytz>=2020.1 in c:\\users\\dell\\anaconda3\\lib\\site-packages (from pandas>=0.23->pandas_datareader) (2022.7)\n",
      "Requirement already satisfied: numpy>=1.21.0 in c:\\users\\dell\\anaconda3\\lib\\site-packages (from pandas>=0.23->pandas_datareader) (1.24.3)\n",
      "Requirement already satisfied: charset-normalizer<4,>=2 in c:\\users\\dell\\anaconda3\\lib\\site-packages (from requests>=2.19.0->pandas_datareader) (2.0.4)\n",
      "Requirement already satisfied: idna<4,>=2.5 in c:\\users\\dell\\anaconda3\\lib\\site-packages (from requests>=2.19.0->pandas_datareader) (3.4)\n",
      "Requirement already satisfied: urllib3<3,>=1.21.1 in c:\\users\\dell\\anaconda3\\lib\\site-packages (from requests>=2.19.0->pandas_datareader) (1.26.16)\n",
      "Requirement already satisfied: certifi>=2017.4.17 in c:\\users\\dell\\anaconda3\\lib\\site-packages (from requests>=2.19.0->pandas_datareader) (2023.7.22)\n",
      "Requirement already satisfied: six>=1.5 in c:\\users\\dell\\appdata\\roaming\\python\\python311\\site-packages (from python-dateutil>=2.8.1->pandas>=0.23->pandas_datareader) (1.16.0)\n",
      "Installing collected packages: pandas_datareader\n",
      "Successfully installed pandas_datareader-0.10.0\n",
      "Note: you may need to restart the kernel to use updated packages.\n"
     ]
    }
   ],
   "source": [
    "pip install pandas_datareader"
   ]
  },
  {
   "cell_type": "code",
   "execution_count": 5,
   "id": "3c2ea577-03b0-463f-9bc7-715a8ce517cc",
   "metadata": {},
   "outputs": [],
   "source": [
    "### Data Collection\n",
    "import pandas_datareader as pdr"
   ]
  },
  {
   "cell_type": "code",
   "execution_count": 6,
   "id": "7842431b-8624-4e58-b60d-13edece2050c",
   "metadata": {},
   "outputs": [],
   "source": [
    "key=\"bd7dbc24e51faff26d3283b833090975d730745d\""
   ]
  },
  {
   "cell_type": "code",
   "execution_count": 8,
   "id": "be2d7ca9-a270-42da-8f0e-bf8d5d2ac5dc",
   "metadata": {},
   "outputs": [
    {
     "name": "stderr",
     "output_type": "stream",
     "text": [
      "C:\\Users\\DELL\\AppData\\Local\\Temp\\ipykernel_17004\\1593133401.py:1: FutureWarning: In a future version of pandas all arguments of concat except for the argument 'objs' will be keyword-only.\n",
      "  df = pdr.get_data_tiingo('AAPL', api_key=key)\n"
     ]
    }
   ],
   "source": [
    "df = pdr.get_data_tiingo('AAPL', api_key=key)"
   ]
  },
  {
   "cell_type": "code",
   "execution_count": 9,
   "id": "7b4a2618-cd69-4563-b43c-e42faeee85cb",
   "metadata": {},
   "outputs": [],
   "source": [
    "df.to_csv('AAPL.csv')"
   ]
  },
  {
   "cell_type": "code",
   "execution_count": 10,
   "id": "3872d4dd-7686-4868-a3c9-7b40f33c8762",
   "metadata": {},
   "outputs": [],
   "source": [
    "import pandas as pd"
   ]
  },
  {
   "cell_type": "code",
   "execution_count": 11,
   "id": "22d9c52d-ac28-4bbb-9b1f-ffdb25759157",
   "metadata": {},
   "outputs": [],
   "source": [
    "df=pd.read_csv('AAPL.csv')"
   ]
  },
  {
   "cell_type": "code",
   "execution_count": 12,
   "id": "45be04d5-f390-41af-8ced-35ad7c2f1abc",
   "metadata": {},
   "outputs": [
    {
     "data": {
      "text/html": [
       "<div>\n",
       "<style scoped>\n",
       "    .dataframe tbody tr th:only-of-type {\n",
       "        vertical-align: middle;\n",
       "    }\n",
       "\n",
       "    .dataframe tbody tr th {\n",
       "        vertical-align: top;\n",
       "    }\n",
       "\n",
       "    .dataframe thead th {\n",
       "        text-align: right;\n",
       "    }\n",
       "</style>\n",
       "<table border=\"1\" class=\"dataframe\">\n",
       "  <thead>\n",
       "    <tr style=\"text-align: right;\">\n",
       "      <th></th>\n",
       "      <th>symbol</th>\n",
       "      <th>date</th>\n",
       "      <th>close</th>\n",
       "      <th>high</th>\n",
       "      <th>low</th>\n",
       "      <th>open</th>\n",
       "      <th>volume</th>\n",
       "      <th>adjClose</th>\n",
       "      <th>adjHigh</th>\n",
       "      <th>adjLow</th>\n",
       "      <th>adjOpen</th>\n",
       "      <th>adjVolume</th>\n",
       "      <th>divCash</th>\n",
       "      <th>splitFactor</th>\n",
       "    </tr>\n",
       "  </thead>\n",
       "  <tbody>\n",
       "    <tr>\n",
       "      <th>0</th>\n",
       "      <td>AAPL</td>\n",
       "      <td>2018-08-20 00:00:00+00:00</td>\n",
       "      <td>215.46</td>\n",
       "      <td>219.18</td>\n",
       "      <td>215.11</td>\n",
       "      <td>218.10</td>\n",
       "      <td>30287695</td>\n",
       "      <td>51.584538</td>\n",
       "      <td>52.475165</td>\n",
       "      <td>51.500742</td>\n",
       "      <td>52.216596</td>\n",
       "      <td>121150780</td>\n",
       "      <td>0.0</td>\n",
       "      <td>1.0</td>\n",
       "    </tr>\n",
       "    <tr>\n",
       "      <th>1</th>\n",
       "      <td>AAPL</td>\n",
       "      <td>2018-08-21 00:00:00+00:00</td>\n",
       "      <td>215.04</td>\n",
       "      <td>217.19</td>\n",
       "      <td>214.03</td>\n",
       "      <td>216.80</td>\n",
       "      <td>26159755</td>\n",
       "      <td>51.483983</td>\n",
       "      <td>51.998727</td>\n",
       "      <td>51.242173</td>\n",
       "      <td>51.905355</td>\n",
       "      <td>104639020</td>\n",
       "      <td>0.0</td>\n",
       "      <td>1.0</td>\n",
       "    </tr>\n",
       "    <tr>\n",
       "      <th>2</th>\n",
       "      <td>AAPL</td>\n",
       "      <td>2018-08-22 00:00:00+00:00</td>\n",
       "      <td>215.05</td>\n",
       "      <td>216.36</td>\n",
       "      <td>213.84</td>\n",
       "      <td>214.10</td>\n",
       "      <td>19018131</td>\n",
       "      <td>51.486377</td>\n",
       "      <td>51.800012</td>\n",
       "      <td>51.196684</td>\n",
       "      <td>51.258932</td>\n",
       "      <td>76072524</td>\n",
       "      <td>0.0</td>\n",
       "      <td>1.0</td>\n",
       "    </tr>\n",
       "    <tr>\n",
       "      <th>3</th>\n",
       "      <td>AAPL</td>\n",
       "      <td>2018-08-23 00:00:00+00:00</td>\n",
       "      <td>215.49</td>\n",
       "      <td>217.05</td>\n",
       "      <td>214.60</td>\n",
       "      <td>214.65</td>\n",
       "      <td>18883224</td>\n",
       "      <td>51.591720</td>\n",
       "      <td>51.965209</td>\n",
       "      <td>51.378640</td>\n",
       "      <td>51.390611</td>\n",
       "      <td>75532896</td>\n",
       "      <td>0.0</td>\n",
       "      <td>1.0</td>\n",
       "    </tr>\n",
       "    <tr>\n",
       "      <th>4</th>\n",
       "      <td>AAPL</td>\n",
       "      <td>2018-08-24 00:00:00+00:00</td>\n",
       "      <td>216.16</td>\n",
       "      <td>216.90</td>\n",
       "      <td>215.11</td>\n",
       "      <td>216.60</td>\n",
       "      <td>18476356</td>\n",
       "      <td>51.752129</td>\n",
       "      <td>51.929297</td>\n",
       "      <td>51.500742</td>\n",
       "      <td>51.857472</td>\n",
       "      <td>73905424</td>\n",
       "      <td>0.0</td>\n",
       "      <td>1.0</td>\n",
       "    </tr>\n",
       "  </tbody>\n",
       "</table>\n",
       "</div>"
      ],
      "text/plain": [
       "  symbol                       date   close    high     low    open    volume  \\\n",
       "0   AAPL  2018-08-20 00:00:00+00:00  215.46  219.18  215.11  218.10  30287695   \n",
       "1   AAPL  2018-08-21 00:00:00+00:00  215.04  217.19  214.03  216.80  26159755   \n",
       "2   AAPL  2018-08-22 00:00:00+00:00  215.05  216.36  213.84  214.10  19018131   \n",
       "3   AAPL  2018-08-23 00:00:00+00:00  215.49  217.05  214.60  214.65  18883224   \n",
       "4   AAPL  2018-08-24 00:00:00+00:00  216.16  216.90  215.11  216.60  18476356   \n",
       "\n",
       "    adjClose    adjHigh     adjLow    adjOpen  adjVolume  divCash  splitFactor  \n",
       "0  51.584538  52.475165  51.500742  52.216596  121150780      0.0          1.0  \n",
       "1  51.483983  51.998727  51.242173  51.905355  104639020      0.0          1.0  \n",
       "2  51.486377  51.800012  51.196684  51.258932   76072524      0.0          1.0  \n",
       "3  51.591720  51.965209  51.378640  51.390611   75532896      0.0          1.0  \n",
       "4  51.752129  51.929297  51.500742  51.857472   73905424      0.0          1.0  "
      ]
     },
     "execution_count": 12,
     "metadata": {},
     "output_type": "execute_result"
    }
   ],
   "source": [
    "df.head()"
   ]
  },
  {
   "cell_type": "code",
   "execution_count": 13,
   "id": "241ccdf4-cc75-4f52-8006-ca2f8b6ecaf4",
   "metadata": {},
   "outputs": [
    {
     "data": {
      "text/html": [
       "<div>\n",
       "<style scoped>\n",
       "    .dataframe tbody tr th:only-of-type {\n",
       "        vertical-align: middle;\n",
       "    }\n",
       "\n",
       "    .dataframe tbody tr th {\n",
       "        vertical-align: top;\n",
       "    }\n",
       "\n",
       "    .dataframe thead th {\n",
       "        text-align: right;\n",
       "    }\n",
       "</style>\n",
       "<table border=\"1\" class=\"dataframe\">\n",
       "  <thead>\n",
       "    <tr style=\"text-align: right;\">\n",
       "      <th></th>\n",
       "      <th>symbol</th>\n",
       "      <th>date</th>\n",
       "      <th>close</th>\n",
       "      <th>high</th>\n",
       "      <th>low</th>\n",
       "      <th>open</th>\n",
       "      <th>volume</th>\n",
       "      <th>adjClose</th>\n",
       "      <th>adjHigh</th>\n",
       "      <th>adjLow</th>\n",
       "      <th>adjOpen</th>\n",
       "      <th>adjVolume</th>\n",
       "      <th>divCash</th>\n",
       "      <th>splitFactor</th>\n",
       "    </tr>\n",
       "  </thead>\n",
       "  <tbody>\n",
       "    <tr>\n",
       "      <th>1251</th>\n",
       "      <td>AAPL</td>\n",
       "      <td>2023-08-10 00:00:00+00:00</td>\n",
       "      <td>177.97</td>\n",
       "      <td>180.75</td>\n",
       "      <td>177.600</td>\n",
       "      <td>179.48</td>\n",
       "      <td>54686851</td>\n",
       "      <td>177.730081</td>\n",
       "      <td>180.506333</td>\n",
       "      <td>177.36058</td>\n",
       "      <td>179.238045</td>\n",
       "      <td>54686851</td>\n",
       "      <td>0.00</td>\n",
       "      <td>1.0</td>\n",
       "    </tr>\n",
       "    <tr>\n",
       "      <th>1252</th>\n",
       "      <td>AAPL</td>\n",
       "      <td>2023-08-11 00:00:00+00:00</td>\n",
       "      <td>177.79</td>\n",
       "      <td>178.62</td>\n",
       "      <td>176.550</td>\n",
       "      <td>177.32</td>\n",
       "      <td>52036672</td>\n",
       "      <td>177.790000</td>\n",
       "      <td>178.620000</td>\n",
       "      <td>176.55000</td>\n",
       "      <td>177.320000</td>\n",
       "      <td>52036672</td>\n",
       "      <td>0.24</td>\n",
       "      <td>1.0</td>\n",
       "    </tr>\n",
       "    <tr>\n",
       "      <th>1253</th>\n",
       "      <td>AAPL</td>\n",
       "      <td>2023-08-14 00:00:00+00:00</td>\n",
       "      <td>179.46</td>\n",
       "      <td>179.69</td>\n",
       "      <td>177.305</td>\n",
       "      <td>177.97</td>\n",
       "      <td>43675627</td>\n",
       "      <td>179.460000</td>\n",
       "      <td>179.690000</td>\n",
       "      <td>177.30500</td>\n",
       "      <td>177.970000</td>\n",
       "      <td>43675627</td>\n",
       "      <td>0.00</td>\n",
       "      <td>1.0</td>\n",
       "    </tr>\n",
       "    <tr>\n",
       "      <th>1254</th>\n",
       "      <td>AAPL</td>\n",
       "      <td>2023-08-15 00:00:00+00:00</td>\n",
       "      <td>177.45</td>\n",
       "      <td>179.48</td>\n",
       "      <td>177.050</td>\n",
       "      <td>178.88</td>\n",
       "      <td>43622593</td>\n",
       "      <td>177.450000</td>\n",
       "      <td>179.480000</td>\n",
       "      <td>177.05000</td>\n",
       "      <td>178.880000</td>\n",
       "      <td>43622593</td>\n",
       "      <td>0.00</td>\n",
       "      <td>1.0</td>\n",
       "    </tr>\n",
       "    <tr>\n",
       "      <th>1255</th>\n",
       "      <td>AAPL</td>\n",
       "      <td>2023-08-16 00:00:00+00:00</td>\n",
       "      <td>176.57</td>\n",
       "      <td>178.54</td>\n",
       "      <td>176.500</td>\n",
       "      <td>177.13</td>\n",
       "      <td>46964857</td>\n",
       "      <td>176.570000</td>\n",
       "      <td>178.540000</td>\n",
       "      <td>176.50000</td>\n",
       "      <td>177.130000</td>\n",
       "      <td>46964857</td>\n",
       "      <td>0.00</td>\n",
       "      <td>1.0</td>\n",
       "    </tr>\n",
       "  </tbody>\n",
       "</table>\n",
       "</div>"
      ],
      "text/plain": [
       "     symbol                       date   close    high      low    open  \\\n",
       "1251   AAPL  2023-08-10 00:00:00+00:00  177.97  180.75  177.600  179.48   \n",
       "1252   AAPL  2023-08-11 00:00:00+00:00  177.79  178.62  176.550  177.32   \n",
       "1253   AAPL  2023-08-14 00:00:00+00:00  179.46  179.69  177.305  177.97   \n",
       "1254   AAPL  2023-08-15 00:00:00+00:00  177.45  179.48  177.050  178.88   \n",
       "1255   AAPL  2023-08-16 00:00:00+00:00  176.57  178.54  176.500  177.13   \n",
       "\n",
       "        volume    adjClose     adjHigh     adjLow     adjOpen  adjVolume  \\\n",
       "1251  54686851  177.730081  180.506333  177.36058  179.238045   54686851   \n",
       "1252  52036672  177.790000  178.620000  176.55000  177.320000   52036672   \n",
       "1253  43675627  179.460000  179.690000  177.30500  177.970000   43675627   \n",
       "1254  43622593  177.450000  179.480000  177.05000  178.880000   43622593   \n",
       "1255  46964857  176.570000  178.540000  176.50000  177.130000   46964857   \n",
       "\n",
       "      divCash  splitFactor  \n",
       "1251     0.00          1.0  \n",
       "1252     0.24          1.0  \n",
       "1253     0.00          1.0  \n",
       "1254     0.00          1.0  \n",
       "1255     0.00          1.0  "
      ]
     },
     "execution_count": 13,
     "metadata": {},
     "output_type": "execute_result"
    }
   ],
   "source": [
    "df.tail()"
   ]
  },
  {
   "cell_type": "code",
   "execution_count": 14,
   "id": "f055b31c-92b5-4f44-8c79-b29d73e9ae08",
   "metadata": {},
   "outputs": [],
   "source": [
    "df1=df.reset_index()['close']"
   ]
  },
  {
   "cell_type": "code",
   "execution_count": 15,
   "id": "19f52e68-6347-4ab8-935b-675892002c3f",
   "metadata": {},
   "outputs": [
    {
     "data": {
      "text/plain": [
       "(1256,)"
      ]
     },
     "execution_count": 15,
     "metadata": {},
     "output_type": "execute_result"
    }
   ],
   "source": [
    "df1.shape"
   ]
  },
  {
   "cell_type": "code",
   "execution_count": 16,
   "id": "cd62b7bc-4e29-4c21-9f44-cf50a818d5e0",
   "metadata": {},
   "outputs": [
    {
     "data": {
      "text/plain": [
       "0       215.46\n",
       "1       215.04\n",
       "2       215.05\n",
       "3       215.49\n",
       "4       216.16\n",
       "         ...  \n",
       "1251    177.97\n",
       "1252    177.79\n",
       "1253    179.46\n",
       "1254    177.45\n",
       "1255    176.57\n",
       "Name: close, Length: 1256, dtype: float64"
      ]
     },
     "execution_count": 16,
     "metadata": {},
     "output_type": "execute_result"
    }
   ],
   "source": [
    "df1"
   ]
  },
  {
   "cell_type": "code",
   "execution_count": 17,
   "id": "0447d2e9-fb2e-455f-9d0f-f85e4272d9f1",
   "metadata": {},
   "outputs": [
    {
     "data": {
      "text/plain": [
       "[<matplotlib.lines.Line2D at 0x181569ea8d0>]"
      ]
     },
     "execution_count": 17,
     "metadata": {},
     "output_type": "execute_result"
    },
    {
     "data": {
      "image/png": "[encoded data removed]",
      "text/plain": [
       "<Figure size 640x480 with 1 Axes>"
      ]
     },
     "metadata": {},
     "output_type": "display_data"
    }
   ],
   "source": [
    "import matplotlib.pyplot as plt\n",
    "plt.plot(df1)"
   ]
  },
  {
   "cell_type": "code",
   "execution_count": 18,
   "id": "56ea8594-f234-412b-8ac8-738a2319e6b8",
   "metadata": {},
   "outputs": [],
   "source": [
    "### LSTM ARE SENSITIVE TO THE SCALE OF THE DATA . SO WE APPLY MINMAX scaler"
   ]
  },
  {
   "cell_type": "code",
   "execution_count": 19,
   "id": "cb6fedc5-998c-4a84-ba42-851610dbd7f3",
   "metadata": {},
   "outputs": [],
   "source": [
    "import numpy as np"
   ]
  },
  {
   "cell_type": "code",
   "execution_count": 20,
   "id": "f9352c96-c6f7-48e2-9997-1e7fd5b81496",
   "metadata": {},
   "outputs": [],
   "source": [
    "from sklearn.preprocessing import MinMaxScaler\n",
    "scaler=MinMaxScaler(feature_range=(0,1))\n",
    "df1=scaler.fit_transform(np.array(df1).reshape(-1,1))"
   ]
  },
  {
   "cell_type": "code",
   "execution_count": 21,
   "id": "d8cddc47-a7d8-4413-9ad8-712172693723",
   "metadata": {},
   "outputs": [
    {
     "data": {
      "text/plain": [
       "(1256, 1)"
      ]
     },
     "execution_count": 21,
     "metadata": {},
     "output_type": "execute_result"
    }
   ],
   "source": [
    " df1.shape"
   ]
  },
  {
   "cell_type": "code",
   "execution_count": 22,
   "id": "3cd30b03-9b9f-4d42-8be0-b2f035c326f4",
   "metadata": {},
   "outputs": [],
   "source": [
    "##spliting dataset into train and test split\n",
    "training_size=int(len(df1)*0.65)\n",
    "test_size=len(df1)-training_size\n",
    "train_data,test_data=df1[0:training_size,:],df1[training_size:len(df1),:1]"
   ]
  },
  {
   "cell_type": "code",
   "execution_count": 23,
   "id": "89e07cad-e2e6-47ba-94fc-31dbd562a682",
   "metadata": {},
   "outputs": [
    {
     "data": {
      "text/plain": [
       "(816, 440)"
      ]
     },
     "execution_count": 23,
     "metadata": {},
     "output_type": "execute_result"
    }
   ],
   "source": [
    "training_size,test_size"
   ]
  },
  {
   "cell_type": "code",
   "execution_count": 24,
   "id": "f54613f3-a97a-41a4-990f-ba2314790e23",
   "metadata": {},
   "outputs": [
    {
     "data": {
      "text/plain": [
       "(816, 440)"
      ]
     },
     "execution_count": 24,
     "metadata": {},
     "output_type": "execute_result"
    }
   ],
   "source": [
    "len(train_data), len(test_data)"
   ]
  },
  {
   "cell_type": "code",
   "execution_count": 25,
   "id": "846f04ce-033a-4b66-a233-989575d03cf3",
   "metadata": {},
   "outputs": [
    {
     "data": {
      "text/plain": [
       "array([[2.72060113e-01],\n",
       "       [2.71008140e-01],\n",
       "       [2.71033187e-01],\n",
       "       [2.72135254e-01],\n",
       "       [2.73813400e-01],\n",
       "       [2.78271760e-01],\n",
       "       [2.82680025e-01],\n",
       "       [2.90895429e-01],\n",
       "       [2.96030056e-01],\n",
       "       [3.02542267e-01],\n",
       "       [3.04370695e-01],\n",
       "       [3.00638698e-01],\n",
       "       [2.91195992e-01],\n",
       "       [2.86687539e-01],\n",
       "       [2.79248591e-01],\n",
       "       [2.93074515e-01],\n",
       "       [2.86111459e-01],\n",
       "       [2.99486537e-01],\n",
       "       [2.93049468e-01],\n",
       "       [2.78121478e-01],\n",
       "       [2.79023168e-01],\n",
       "       [2.79348779e-01],\n",
       "       [2.83506575e-01],\n",
       "       [2.77570445e-01],\n",
       "       [2.85410144e-01],\n",
       "       [2.88916719e-01],\n",
       "       [2.84483406e-01],\n",
       "       [2.95829681e-01],\n",
       "       [2.97808391e-01],\n",
       "       [3.01615529e-01],\n",
       "       [3.06675016e-01],\n",
       "       [3.13663118e-01],\n",
       "       [3.03443957e-01],\n",
       "       [2.94176581e-01],\n",
       "       [2.92874139e-01],\n",
       "       [3.00638698e-01],\n",
       "       [2.74314339e-01],\n",
       "       [2.69530369e-01],\n",
       "       [2.88716343e-01],\n",
       "       [2.76819036e-01],\n",
       "       [2.88816531e-01],\n",
       "       [2.86412023e-01],\n",
       "       [2.73462743e-01],\n",
       "       [2.81703193e-01],\n",
       "       [2.85059487e-01],\n",
       "       [2.90269255e-01],\n",
       "       [2.71133375e-01],\n",
       "       [2.82930495e-01],\n",
       "       [2.74164058e-01],\n",
       "       [2.63994991e-01],\n",
       "       [2.66649969e-01],\n",
       "       [2.80576080e-01],\n",
       "       [2.88991860e-01],\n",
       "       [2.52072636e-01],\n",
       "       [2.37319975e-01],\n",
       "       [2.42780213e-01],\n",
       "       [2.58259236e-01],\n",
       "       [2.54602379e-01],\n",
       "       [2.44533500e-01],\n",
       "       [2.18735128e-01],\n",
       "       [2.13876018e-01],\n",
       "       [2.00275517e-01],\n",
       "       [2.11822167e-01],\n",
       "       [2.17132123e-01],\n",
       "       [1.97921102e-01],\n",
       "       [1.75679399e-01],\n",
       "       [1.75178460e-01],\n",
       "       [1.63932373e-01],\n",
       "       [1.69768316e-01],\n",
       "       [1.68816531e-01],\n",
       "       [1.85597996e-01],\n",
       "       [1.82116468e-01],\n",
       "       [1.79686913e-01],\n",
       "       [1.95316218e-01],\n",
       "       [1.74953037e-01],\n",
       "       [1.70018785e-01],\n",
       "       [1.54414527e-01],\n",
       "       [1.57194740e-01],\n",
       "       [1.54765185e-01],\n",
       "       [1.55942392e-01],\n",
       "       [1.60576080e-01],\n",
       "       [1.46875391e-01],\n",
       "       [1.43018159e-01],\n",
       "       [1.48353162e-01],\n",
       "       [1.35378835e-01],\n",
       "       [1.25209768e-01],\n",
       "       [1.09931121e-01],\n",
       "       [1.00162805e-01],\n",
       "       [1.26061365e-01],\n",
       "       [1.23506575e-01],\n",
       "       [1.23706951e-01],\n",
       "       [1.27489042e-01],\n",
       "       [1.27939887e-01],\n",
       "       [8.85410144e-02],\n",
       "       [1.03744521e-01],\n",
       "       [1.02917971e-01],\n",
       "       [1.09981215e-01],\n",
       "       [1.16393237e-01],\n",
       "       [1.17620539e-01],\n",
       "       [1.13838447e-01],\n",
       "       [1.08102693e-01],\n",
       "       [1.15792110e-01],\n",
       "       [1.20475892e-01],\n",
       "       [1.22780213e-01],\n",
       "       [1.25184721e-01],\n",
       "       [1.16368190e-01],\n",
       "       [1.17921102e-01],\n",
       "       [1.14865373e-01],\n",
       "       [1.27539136e-01],\n",
       "       [1.23882279e-01],\n",
       "       [1.19824671e-01],\n",
       "       [1.46299311e-01],\n",
       "       [1.49279900e-01],\n",
       "       [1.49480276e-01],\n",
       "       [1.61327489e-01],\n",
       "       [1.68666249e-01],\n",
       "       [1.68816531e-01],\n",
       "       [1.60551033e-01],\n",
       "       [1.59223544e-01],\n",
       "       [1.56768942e-01],\n",
       "       [1.60425798e-01],\n",
       "       [1.58647464e-01],\n",
       "       [1.60200376e-01],\n",
       "       [1.59248591e-01],\n",
       "       [1.60525986e-01],\n",
       "       [1.63281152e-01],\n",
       "       [1.60851597e-01],\n",
       "       [1.65635567e-01],\n",
       "       [1.68791484e-01],\n",
       "       [1.69041954e-01],\n",
       "       [1.70394490e-01],\n",
       "       [1.66086412e-01],\n",
       "       [1.70644959e-01],\n",
       "       [1.72849092e-01],\n",
       "       [1.72047589e-01],\n",
       "       [1.69517846e-01],\n",
       "       [1.64458359e-01],\n",
       "       [1.65485285e-01],\n",
       "       [1.80488416e-01],\n",
       "       [1.85522855e-01],\n",
       "       [1.87526612e-01],\n",
       "       [1.92586099e-01],\n",
       "       [1.98572323e-01],\n",
       "       [2.03331246e-01],\n",
       "       [1.99599249e-01],\n",
       "       [2.03681904e-01],\n",
       "       [2.21039449e-01],\n",
       "       [2.10920476e-01],\n",
       "       [2.05134627e-01],\n",
       "       [2.00250470e-01],\n",
       "       [2.04458359e-01],\n",
       "       [2.05084534e-01],\n",
       "       [2.08165310e-01],\n",
       "       [2.11396368e-01],\n",
       "       [2.18359424e-01],\n",
       "       [2.21690670e-01],\n",
       "       [2.22542267e-01],\n",
       "       [2.25823419e-01],\n",
       "       [2.33587977e-01],\n",
       "       [2.32085160e-01],\n",
       "       [2.34890420e-01],\n",
       "       [2.30707577e-01],\n",
       "       [2.30507201e-01],\n",
       "       [2.31408892e-01],\n",
       "       [2.31458986e-01],\n",
       "       [2.41177207e-01],\n",
       "       [2.43005636e-01],\n",
       "       [2.44683782e-01],\n",
       "       [2.52072636e-01],\n",
       "       [2.51271133e-01],\n",
       "       [2.46562304e-01],\n",
       "       [2.44107702e-01],\n",
       "       [2.44884158e-01],\n",
       "       [2.35015654e-01],\n",
       "       [2.59686913e-01],\n",
       "       [2.56255479e-01],\n",
       "       [2.62767689e-01],\n",
       "       [2.54577332e-01],\n",
       "       [2.40500939e-01],\n",
       "       [2.40601127e-01],\n",
       "       [2.35140889e-01],\n",
       "       [2.26274264e-01],\n",
       "       [1.97570445e-01],\n",
       "       [2.04934252e-01],\n",
       "       [2.10594865e-01],\n",
       "       [2.08490920e-01],\n",
       "       [2.05785848e-01],\n",
       "       [1.90983093e-01],\n",
       "       [1.99774577e-01],\n",
       "       [1.90206637e-01],\n",
       "       [1.82391985e-01],\n",
       "       [1.80663745e-01],\n",
       "       [1.78810269e-01],\n",
       "       [1.76681277e-01],\n",
       "       [1.78985598e-01],\n",
       "       [1.70895429e-01],\n",
       "       [1.66462116e-01],\n",
       "       [1.82341891e-01],\n",
       "       [1.89605510e-01],\n",
       "       [1.96318096e-01],\n",
       "       [2.08666249e-01],\n",
       "       [2.14752661e-01],\n",
       "       [2.20338134e-01],\n",
       "       [2.18785222e-01],\n",
       "       [2.18685034e-01],\n",
       "       [2.15153413e-01],\n",
       "       [2.18033813e-01],\n",
       "       [2.29455229e-01],\n",
       "       [2.28002505e-01],\n",
       "       [2.31984972e-01],\n",
       "       [2.30281778e-01],\n",
       "       [2.29780839e-01],\n",
       "       [2.22241703e-01],\n",
       "       [2.32836569e-01],\n",
       "       [2.32686287e-01],\n",
       "       [2.28127740e-01],\n",
       "       [2.37219787e-01],\n",
       "       [2.40175329e-01],\n",
       "       [2.44383219e-01],\n",
       "       [2.43932373e-01],\n",
       "       [2.33387602e-01],\n",
       "       [2.36443331e-01],\n",
       "       [2.41427677e-01],\n",
       "       [2.37720726e-01],\n",
       "       [2.41603006e-01],\n",
       "       [2.46386976e-01],\n",
       "       [2.44608641e-01],\n",
       "       [2.41728240e-01],\n",
       "       [2.47514089e-01],\n",
       "       [2.39824671e-01],\n",
       "       [2.51421415e-01],\n",
       "       [2.55479023e-01],\n",
       "       [2.55053225e-01],\n",
       "       [2.50920476e-01],\n",
       "       [2.52723857e-01],\n",
       "       [2.57582968e-01],\n",
       "       [2.55328741e-01],\n",
       "       [2.65998748e-01],\n",
       "       [2.54452098e-01],\n",
       "       [2.43406387e-01],\n",
       "       [2.16656230e-01],\n",
       "       [2.25823419e-01],\n",
       "       [2.30932999e-01],\n",
       "       [2.41928616e-01],\n",
       "       [2.35817157e-01],\n",
       "       [2.34539762e-01],\n",
       "       [2.55804634e-01],\n",
       "       [2.40225423e-01],\n",
       "       [2.37695679e-01],\n",
       "       [2.49618034e-01],\n",
       "       [2.59261115e-01],\n",
       "       [2.59286162e-01],\n",
       "       [2.64996869e-01],\n",
       "       [2.64546024e-01],\n",
       "       [2.39949906e-01],\n",
       "       [2.49592987e-01],\n",
       "       [2.43757044e-01],\n",
       "       [2.47188478e-01],\n",
       "       [2.55904822e-01],\n",
       "       [2.55228554e-01],\n",
       "       [2.47614277e-01],\n",
       "       [2.56355667e-01],\n",
       "       [2.66599875e-01],\n",
       "       [2.66549781e-01],\n",
       "       [2.68829054e-01],\n",
       "       [2.75165936e-01],\n",
       "       [2.92423294e-01],\n",
       "       [2.91170946e-01],\n",
       "       [2.80300564e-01],\n",
       "       [2.83180964e-01],\n",
       "       [2.85184721e-01],\n",
       "       [2.90369443e-01],\n",
       "       [2.85835942e-01],\n",
       "       [2.77745773e-01],\n",
       "       [2.80225423e-01],\n",
       "       [2.77620539e-01],\n",
       "       [2.86011271e-01],\n",
       "       [2.83155917e-01],\n",
       "       [2.80475892e-01],\n",
       "       [2.93375078e-01],\n",
       "       [2.94927990e-01],\n",
       "       [2.80826550e-01],\n",
       "       [2.85485285e-01],\n",
       "       [3.00989355e-01],\n",
       "       [3.01114590e-01],\n",
       "       [2.94452098e-01],\n",
       "       [3.01039449e-01],\n",
       "       [3.08703820e-01],\n",
       "       [3.24032561e-01],\n",
       "       [3.23180964e-01],\n",
       "       [3.21803381e-01],\n",
       "       [3.19423920e-01],\n",
       "       [3.21703193e-01],\n",
       "       [3.24533500e-01],\n",
       "       [3.34802755e-01],\n",
       "       [3.33425172e-01],\n",
       "       [3.41490294e-01],\n",
       "       [3.42492173e-01],\n",
       "       [3.50006262e-01],\n",
       "       [3.56192862e-01],\n",
       "       [3.41765811e-01],\n",
       "       [3.41690670e-01],\n",
       "       [3.55466500e-01],\n",
       "       [3.73149656e-01],\n",
       "       [3.77357545e-01],\n",
       "       [3.76430808e-01],\n",
       "       [3.76706324e-01],\n",
       "       [3.82191609e-01],\n",
       "       [3.83969944e-01],\n",
       "       [3.89129618e-01],\n",
       "       [3.88528491e-01],\n",
       "       [3.94815279e-01],\n",
       "       [3.90231684e-01],\n",
       "       [3.98046337e-01],\n",
       "       [4.01402630e-01],\n",
       "       [3.99373826e-01],\n",
       "       [3.91609267e-01],\n",
       "       [3.88653726e-01],\n",
       "       [3.88077646e-01],\n",
       "       [3.99574202e-01],\n",
       "       [3.94364433e-01],\n",
       "       [4.03256105e-01],\n",
       "       [4.01778334e-01],\n",
       "       [3.94038823e-01],\n",
       "       [3.82241703e-01],\n",
       "       [3.87977458e-01],\n",
       "       [3.97595492e-01],\n",
       "       [4.10444584e-01],\n",
       "       [4.00951785e-01],\n",
       "       [4.04859111e-01],\n",
       "       [4.10594865e-01],\n",
       "       [4.12323106e-01],\n",
       "       [4.21565435e-01],\n",
       "       [4.33362555e-01],\n",
       "       [4.34740138e-01],\n",
       "       [4.33061991e-01],\n",
       "       [4.33763306e-01],\n",
       "       [4.32310582e-01],\n",
       "       [4.43731997e-01],\n",
       "       [4.44408265e-01],\n",
       "       [4.58534753e-01],\n",
       "       [4.58259236e-01],\n",
       "       [4.62567314e-01],\n",
       "       [4.67902317e-01],\n",
       "       [4.84683782e-01],\n",
       "       [4.77370069e-01],\n",
       "       [4.83306199e-01],\n",
       "       [4.79774577e-01],\n",
       "       [4.91797120e-01],\n",
       "       [5.07927364e-01],\n",
       "       [5.09680651e-01],\n",
       "       [5.26286788e-01],\n",
       "       [5.15566688e-01],\n",
       "       [5.12210394e-01],\n",
       "       [5.21978710e-01],\n",
       "       [5.30720100e-01],\n",
       "       [5.25309956e-01],\n",
       "       [5.28140263e-01],\n",
       "       [5.31972448e-01],\n",
       "       [5.29668128e-01],\n",
       "       [5.06224170e-01],\n",
       "       [5.28115216e-01],\n",
       "       [5.44771446e-01],\n",
       "       [5.43594239e-01],\n",
       "       [5.07626800e-01],\n",
       "       [5.05497808e-01],\n",
       "       [5.31020664e-01],\n",
       "       [5.37532874e-01],\n",
       "       [5.46950532e-01],\n",
       "       [5.33976205e-01],\n",
       "       [5.37783344e-01],\n",
       "       [5.32924233e-01],\n",
       "       [5.51934878e-01],\n",
       "       [5.46098936e-01],\n",
       "       [5.46299311e-01],\n",
       "       [5.31396368e-01],\n",
       "       [5.42968065e-01],\n",
       "       [5.34652473e-01],\n",
       "       [5.16493425e-01],\n",
       "       [4.79248591e-01],\n",
       "       [4.53951158e-01],\n",
       "       [4.65397621e-01],\n",
       "       [4.17482780e-01],\n",
       "       [4.17082029e-01],\n",
       "       [4.80826550e-01],\n",
       "       [4.57056982e-01],\n",
       "       [4.90670006e-01],\n",
       "       [4.66073889e-01],\n",
       "       [4.56330620e-01],\n",
       "       [3.99073262e-01],\n",
       "       [4.47088291e-01],\n",
       "       [4.22266750e-01],\n",
       "       [3.54139011e-01],\n",
       "       [4.28628679e-01],\n",
       "       [3.39060739e-01],\n",
       "       [3.65735755e-01],\n",
       "       [3.50231684e-01],\n",
       "       [3.45497808e-01],\n",
       "       [3.06574828e-01],\n",
       "       [2.94376957e-01],\n",
       "       [3.50757671e-01],\n",
       "       [3.47351284e-01],\n",
       "       [3.79711960e-01],\n",
       "       [3.52911709e-01],\n",
       "       [3.70619912e-01],\n",
       "       [3.69317470e-01],\n",
       "       [3.35804634e-01],\n",
       "       [3.45873513e-01],\n",
       "       [3.37056982e-01],\n",
       "       [3.89805886e-01],\n",
       "       [3.82191609e-01],\n",
       "       [3.98822793e-01],\n",
       "       [4.03631810e-01],\n",
       "       [4.16806512e-01],\n",
       "       [4.51371321e-01],\n",
       "       [4.44809017e-01],\n",
       "       [4.50469631e-01],\n",
       "       [4.40726362e-01],\n",
       "       [4.26023795e-01],\n",
       "       [4.04583594e-01],\n",
       "       [4.23944897e-01],\n",
       "       [4.21264872e-01],\n",
       "       [4.41152160e-01],\n",
       "       [4.41653100e-01],\n",
       "       [4.30156544e-01],\n",
       "       [4.53074515e-01],\n",
       "       [4.68278021e-01],\n",
       "       [4.56430808e-01],\n",
       "       [4.66675016e-01],\n",
       "       [4.77695679e-01],\n",
       "       [4.85385097e-01],\n",
       "       [4.93174703e-01],\n",
       "       [5.09179712e-01],\n",
       "       [5.21402630e-01],\n",
       "       [5.12385723e-01],\n",
       "       [5.02968065e-01],\n",
       "       [5.07701941e-01],\n",
       "       [5.03118347e-01],\n",
       "       [5.21277395e-01],\n",
       "       [5.16718848e-01],\n",
       "       [5.31972448e-01],\n",
       "       [5.26011271e-01],\n",
       "       [5.31120852e-01],\n",
       "       [5.25710708e-01],\n",
       "       [5.29167188e-01],\n",
       "       [5.29517846e-01],\n",
       "       [5.28741390e-01],\n",
       "       [5.38534753e-01],\n",
       "       [5.42266750e-01],\n",
       "       [5.46725110e-01],\n",
       "       [5.39711960e-01],\n",
       "       [5.62705072e-01],\n",
       "       [5.67614277e-01],\n",
       "       [5.93988729e-01],\n",
       "       [6.16155291e-01],\n",
       "       [5.73725736e-01],\n",
       "       [5.80989355e-01],\n",
       "       [5.91484033e-01],\n",
       "       [6.14251722e-01],\n",
       "       [6.13024421e-01],\n",
       "       [6.13375078e-01],\n",
       "       [6.08340639e-01],\n",
       "       [6.31258610e-01],\n",
       "       [6.50444584e-01],\n",
       "       [6.34239198e-01],\n",
       "       [6.46211647e-01],\n",
       "       [6.18134001e-01],\n",
       "       [6.38547276e-01],\n",
       "       [6.46111459e-01],\n",
       "       [6.44383219e-01],\n",
       "       [6.44383219e-01],\n",
       "       [6.68778961e-01],\n",
       "       [6.65873513e-01],\n",
       "       [6.87614277e-01],\n",
       "       [6.91721979e-01],\n",
       "       [6.93400125e-01],\n",
       "       [6.88966813e-01],\n",
       "       [7.04796493e-01],\n",
       "       [7.11484033e-01],\n",
       "       [6.99436443e-01],\n",
       "       [6.97482780e-01],\n",
       "       [7.17820914e-01],\n",
       "       [7.04220413e-01],\n",
       "       [7.06950532e-01],\n",
       "       [6.62592361e-01],\n",
       "       [6.60288040e-01],\n",
       "       [6.82279274e-01],\n",
       "       [6.66675016e-01],\n",
       "       [6.84583594e-01],\n",
       "       [6.96105197e-01],\n",
       "       [7.96994364e-01],\n",
       "       [8.23819662e-01],\n",
       "       [8.31108328e-01],\n",
       "       [8.35090795e-01],\n",
       "       [8.73562930e-01],\n",
       "       [8.45610520e-01],\n",
       "       [8.61790858e-01],\n",
       "       [8.28202880e-01],\n",
       "       [8.64621165e-01],\n",
       "       [8.84658735e-01],\n",
       "       [8.83631810e-01],\n",
       "       [8.80626174e-01],\n",
       "       [8.90194114e-01],\n",
       "       [8.91646838e-01],\n",
       "       [9.17370069e-01],\n",
       "       [9.78434565e-01],\n",
       "       [9.93337508e-01],\n",
       "       [9.82993112e-01],\n",
       "       [1.00000000e+00],\n",
       "       [9.84846587e-01],\n",
       "       [9.82817783e-01],\n",
       "       [5.56042580e-02],\n",
       "       [6.84783970e-02],\n",
       "       [6.15153413e-02],\n",
       "       [3.51659361e-02],\n",
       "       [3.53663118e-02],\n",
       "       [1.49780839e-02],\n",
       "       [2.62492173e-02],\n",
       "       [1.66562304e-02],\n",
       "       [1.29242329e-02],\n",
       "       [2.13274890e-02],\n",
       "       [2.17908579e-02],\n",
       "       [1.32498435e-02],\n",
       "       [8.76643707e-03],\n",
       "       [0.00000000e+00],\n",
       "       [8.11521603e-03],\n",
       "       [1.24483406e-02],\n",
       "       [7.01314966e-04],\n",
       "       [3.45648090e-03],\n",
       "       [1.36255479e-02],\n",
       "       [2.03381340e-02],\n",
       "       [1.81590482e-02],\n",
       "       [2.24671259e-02],\n",
       "       [2.49217282e-02],\n",
       "       [1.54790232e-02],\n",
       "       [2.41953663e-02],\n",
       "       [1.58296807e-02],\n",
       "       [2.06386976e-02],\n",
       "       [2.03631810e-02],\n",
       "       [2.53725736e-02],\n",
       "       [4.39824671e-02],\n",
       "       [3.57169693e-02],\n",
       "       [3.59423920e-02],\n",
       "       [3.47401378e-02],\n",
       "       [3.05072010e-02],\n",
       "       [2.28929242e-02],\n",
       "       [2.67251096e-02],\n",
       "       [2.51221039e-02],\n",
       "       [2.23168441e-02],\n",
       "       [2.05385097e-02],\n",
       "       [2.05635567e-02],\n",
       "       [2.44458359e-02],\n",
       "       [1.09204759e-02],\n",
       "       [2.12398247e-02],\n",
       "       [5.05948654e-03],\n",
       "       [4.83406387e-03],\n",
       "       [9.01690670e-03],\n",
       "       [2.03130870e-02],\n",
       "       [3.05322480e-02],\n",
       "       [2.96806512e-02],\n",
       "       [2.37445210e-02],\n",
       "       [2.28678773e-02],\n",
       "       [3.16844083e-02],\n",
       "       [3.09830933e-02],\n",
       "       [3.11083281e-02],\n",
       "       [3.37132123e-02],\n",
       "       [3.14339386e-02],\n",
       "       [2.80275517e-02],\n",
       "       [2.95554164e-02],\n",
       "       [2.62993112e-02],\n",
       "       [1.75579211e-02],\n",
       "       [2.08641202e-02],\n",
       "       [2.30181590e-02],\n",
       "       [2.44207890e-02],\n",
       "       [3.05823419e-02],\n",
       "       [3.97745773e-02],\n",
       "       [4.06762680e-02],\n",
       "       [4.03256105e-02],\n",
       "       [3.85973701e-02],\n",
       "       [4.23544145e-02],\n",
       "       [4.39323732e-02],\n",
       "       [3.74201628e-02],\n",
       "       [4.10770194e-02],\n",
       "       [3.89981215e-02],\n",
       "       [3.74201628e-02],\n",
       "       [5.26988103e-02],\n",
       "       [5.25234815e-02],\n",
       "       [5.47526612e-02],\n",
       "       [4.96305573e-02],\n",
       "       [5.35754540e-02],\n",
       "       [6.27175955e-02],\n",
       "       [6.04132749e-02],\n",
       "       [6.29430182e-02],\n",
       "       [7.47651847e-02],\n",
       "       [7.02066374e-02],\n",
       "       [6.73262367e-02],\n",
       "       [6.47463995e-02],\n",
       "       [5.65309956e-02],\n",
       "       [6.05385097e-02],\n",
       "       [4.94927990e-02],\n",
       "       [6.03130870e-02],\n",
       "       [6.31433939e-02],\n",
       "       [5.54539762e-02],\n",
       "       [5.50031309e-02],\n",
       "       [6.02379461e-02],\n",
       "       [5.52786475e-02],\n",
       "       [5.08453350e-02],\n",
       "       [5.25735755e-02],\n",
       "       [6.30932999e-02],\n",
       "       [7.52160301e-02],\n",
       "       [8.07263619e-02],\n",
       "       [9.03694427e-02],\n",
       "       [9.09705698e-02],\n",
       "       [8.82154039e-02],\n",
       "       [7.57670632e-02],\n",
       "       [6.29179712e-02],\n",
       "       [6.83782091e-02],\n",
       "       [7.05072010e-02],\n",
       "       [6.78772699e-02],\n",
       "       [7.65184721e-02],\n",
       "       [7.49405135e-02],\n",
       "       [7.53162179e-02],\n",
       "       [7.30619912e-02],\n",
       "       [7.15090795e-02],\n",
       "       [7.08578585e-02],\n",
       "       [7.14589856e-02],\n",
       "       [6.59987477e-02],\n",
       "       [6.01127113e-02],\n",
       "       [5.72824045e-02],\n",
       "       [5.76831559e-02],\n",
       "       [4.79899812e-02],\n",
       "       [4.76393237e-02],\n",
       "       [4.63619286e-02],\n",
       "       [3.54414527e-02],\n",
       "       [3.61177207e-02],\n",
       "       [5.24733876e-02],\n",
       "       [4.57858485e-02],\n",
       "       [3.81214778e-02],\n",
       "       [3.32874139e-02],\n",
       "       [3.65184721e-02],\n",
       "       [2.38447088e-02],\n",
       "       [3.56793989e-02],\n",
       "       [3.29117095e-02],\n",
       "       [3.78710081e-02],\n",
       "       [3.55416406e-02],\n",
       "       [4.29555416e-02],\n",
       "       [4.69129618e-02],\n",
       "       [4.48841578e-02],\n",
       "       [3.42892924e-02],\n",
       "       [3.29367564e-02],\n",
       "       [4.14527239e-02],\n",
       "       [3.93237320e-02],\n",
       "       [3.31872260e-02],\n",
       "       [3.44395742e-02],\n",
       "       [3.59924859e-02],\n",
       "       [3.64433312e-02],\n",
       "       [3.27113338e-02],\n",
       "       [3.83469004e-02],\n",
       "       [4.04758923e-02],\n",
       "       [4.77395116e-02],\n",
       "       [4.85159674e-02],\n",
       "       [5.27489042e-02],\n",
       "       [5.89104571e-02],\n",
       "       [6.55103319e-02],\n",
       "       [6.11145899e-02],\n",
       "       [6.91045711e-02],\n",
       "       [6.30932999e-02],\n",
       "       [6.92798998e-02],\n",
       "       [6.84283031e-02],\n",
       "       [7.01314966e-02],\n",
       "       [6.57983719e-02],\n",
       "       [6.67752035e-02],\n",
       "       [6.28678773e-02],\n",
       "       [6.88290545e-02],\n",
       "       [6.98309330e-02],\n",
       "       [6.90043832e-02],\n",
       "       [6.69755792e-02],\n",
       "       [6.67251096e-02],\n",
       "       [6.16656230e-02],\n",
       "       [6.43706951e-02],\n",
       "       [5.26236694e-02],\n",
       "       [5.32498435e-02],\n",
       "       [5.73575454e-02],\n",
       "       [5.85347527e-02],\n",
       "       [5.01189731e-02],\n",
       "       [4.77645585e-02],\n",
       "       [3.98998121e-02],\n",
       "       [4.54101440e-02],\n",
       "       [5.16217909e-02],\n",
       "       [4.86662492e-02],\n",
       "       [4.51095805e-02],\n",
       "       [4.47088291e-02],\n",
       "       [5.12711334e-02],\n",
       "       [4.65623043e-02],\n",
       "       [5.07451472e-02],\n",
       "       [5.02442079e-02],\n",
       "       [5.01189731e-02],\n",
       "       [4.61865999e-02],\n",
       "       [4.45084534e-02],\n",
       "       [4.36819036e-02],\n",
       "       [4.56355667e-02],\n",
       "       [4.18284283e-02],\n",
       "       [4.77144646e-02],\n",
       "       [4.77395116e-02],\n",
       "       [4.98434565e-02],\n",
       "       [5.08202880e-02],\n",
       "       [4.82654978e-02],\n",
       "       [5.13713212e-02],\n",
       "       [5.92110207e-02],\n",
       "       [5.71070758e-02],\n",
       "       [5.83844709e-02],\n",
       "       [6.24921728e-02],\n",
       "       [5.91609267e-02],\n",
       "       [6.37695679e-02],\n",
       "       [6.79774577e-02],\n",
       "       [6.72761428e-02],\n",
       "       [6.65497808e-02],\n",
       "       [6.57983719e-02],\n",
       "       [6.99812148e-02],\n",
       "       [7.38634941e-02],\n",
       "       [7.54414527e-02],\n",
       "       [7.62179086e-02],\n",
       "       [8.29555416e-02],\n",
       "       [8.81152160e-02],\n",
       "       [9.45021916e-02],\n",
       "       [9.11709455e-02],\n",
       "       [9.58547276e-02],\n",
       "       [9.43268629e-02],\n",
       "       [9.71822167e-02],\n",
       "       [1.05973701e-01],\n",
       "       [1.04295554e-01],\n",
       "       [9.90607389e-02],\n",
       "       [8.91922354e-02],\n",
       "       [9.84596118e-02],\n",
       "       [9.65810895e-02],\n",
       "       [1.00087664e-01],\n",
       "       [1.04495930e-01],\n",
       "       [1.05572949e-01],\n",
       "       [1.00012523e-01],\n",
       "       [9.55291171e-02],\n",
       "       [9.71822167e-02],\n",
       "       [9.77332498e-02],\n",
       "       [9.68816531e-02],\n",
       "       [1.01490294e-01],\n",
       "       [1.00463369e-01],\n",
       "       [1.00738885e-01],\n",
       "       [9.84345648e-02],\n",
       "       [9.83093300e-02],\n",
       "       [9.70820288e-02],\n",
       "       [9.77332498e-02],\n",
       "       [1.05322480e-01],\n",
       "       [1.05848466e-01],\n",
       "       [1.10907952e-01],\n",
       "       [1.08578585e-01],\n",
       "       [9.89855980e-02],\n",
       "       [9.98371947e-02],\n",
       "       [1.03569192e-01],\n",
       "       [1.07376331e-01],\n",
       "       [1.07150908e-01],\n",
       "       [1.03994991e-01],\n",
       "       [1.01941140e-01],\n",
       "       [1.04596118e-01],\n",
       "       [1.15917345e-01],\n",
       "       [1.12686287e-01],\n",
       "       [1.14389480e-01],\n",
       "       [1.17244834e-01],\n",
       "       [1.18872887e-01],\n",
       "       [1.24859111e-01],\n",
       "       [1.20901691e-01],\n",
       "       [1.18296807e-01],\n",
       "       [1.05522855e-01],\n",
       "       [1.06975579e-01],\n",
       "       [1.03393863e-01],\n",
       "       [1.05673137e-01],\n",
       "       [1.05072010e-01],\n",
       "       [9.82341891e-02],\n",
       "       [9.04195366e-02],\n",
       "       [9.16468378e-02],\n",
       "       [9.77082029e-02],\n",
       "       [1.00162805e-01],\n",
       "       [1.00388228e-01],\n",
       "       [9.65059487e-02],\n",
       "       [8.78396994e-02],\n",
       "       [9.01440200e-02],\n",
       "       [8.68127740e-02],\n",
       "       [8.96931747e-02],\n",
       "       [8.09016907e-02],\n",
       "       [8.58359424e-02],\n",
       "       [8.80651221e-02],\n",
       "       [9.12961803e-02],\n",
       "       [9.03193488e-02],\n",
       "       [9.00939261e-02],\n",
       "       [8.68378209e-02],\n",
       "       [8.53350031e-02],\n",
       "       [9.24733876e-02],\n",
       "       [9.51784596e-02],\n",
       "       [9.94614903e-02],\n",
       "       [1.04996869e-01],\n",
       "       [1.06249217e-01],\n",
       "       [1.06800250e-01],\n",
       "       [1.04821540e-01],\n",
       "       [1.04696306e-01],\n",
       "       [1.06399499e-01],\n",
       "       [1.05222292e-01],\n",
       "       [1.14539762e-01],\n",
       "       [1.07601753e-01],\n",
       "       [1.05497808e-01],\n",
       "       [1.08152786e-01],\n",
       "       [1.11834690e-01],\n",
       "       [1.10507201e-01],\n",
       "       [1.11308704e-01],\n",
       "       [1.09204759e-01],\n",
       "       [1.10131497e-01],\n",
       "       [1.02892924e-01],\n",
       "       [1.02767689e-01],\n",
       "       [1.08077646e-01]])"
      ]
     },
     "execution_count": 25,
     "metadata": {},
     "output_type": "execute_result"
    }
   ],
   "source": [
    "train_data"
   ]
  },
  {
   "cell_type": "code",
   "execution_count": 26,
   "id": "2f828c56-758f-40a6-abfe-0fda8edf703b",
   "metadata": {},
   "outputs": [],
   "source": [
    "import numpy\n",
    "# convert an arra of values into a dataset matrix\n",
    "def create_dataset(dataset, time_step=1):\n",
    "    dataX, dataY =  [], []\n",
    "    for i in range(len(dataset)-time_step-1):\n",
    "        a=dataset[i:(i+time_step), 0] ###i=0, 0,1,2,3\n",
    "        dataX.append(a)\n",
    "        dataY.append(dataset[i+time_step, 0])\n",
    "    return numpy.array(dataX), numpy.array(dataY)"
   ]
  },
  {
   "cell_type": "code",
   "execution_count": 27,
   "id": "a9e57740-87f4-4849-9b5c-edeb2c32d2f8",
   "metadata": {},
   "outputs": [],
   "source": [
    "# reshape into X=t, t+1,t+2,t+3 and Y=t+4\n",
    "time_step =  100\n",
    "X_train, y_train = create_dataset(train_data, time_step)\n",
    "X_test, ytest =  create_dataset(test_data, time_step)"
   ]
  },
  {
   "cell_type": "code",
   "execution_count": 28,
   "id": "ede6bea0-d173-4a95-906b-51c6be31361d",
   "metadata": {},
   "outputs": [
    {
     "name": "stdout",
     "output_type": "stream",
     "text": [
      "[[0.27206011 0.27100814 0.27103319 ... 0.11639324 0.11762054 0.11383845]\n",
      " [0.27100814 0.27103319 0.27213525 ... 0.11762054 0.11383845 0.10810269]\n",
      " [0.27103319 0.27213525 0.2738134  ... 0.11383845 0.10810269 0.11579211]\n",
      " ...\n",
      " [0.05916093 0.06376957 0.06797746 ... 0.1105072  0.1113087  0.10920476]\n",
      " [0.06376957 0.06797746 0.06727614 ... 0.1113087  0.10920476 0.1101315 ]\n",
      " [0.06797746 0.06727614 0.06654978 ... 0.10920476 0.1101315  0.10289292]]\n"
     ]
    }
   ],
   "source": [
    "print(X_train)"
   ]
  },
  {
   "cell_type": "code",
   "execution_count": 29,
   "id": "d8de7a39-b6e2-44da-8acb-a838092d6ab3",
   "metadata": {},
   "outputs": [
    {
     "name": "stdout",
     "output_type": "stream",
     "text": [
      "(339, 100)\n",
      "(339,)\n"
     ]
    },
    {
     "data": {
      "text/plain": [
       "(None, None)"
      ]
     },
     "execution_count": 29,
     "metadata": {},
     "output_type": "execute_result"
    }
   ],
   "source": [
    "print(X_test.shape), print(ytest.shape)"
   ]
  },
  {
   "cell_type": "code",
   "execution_count": 30,
   "id": "34a8272b-150a-4960-a943-cadce9975898",
   "metadata": {},
   "outputs": [
    {
     "name": "stdout",
     "output_type": "stream",
     "text": [
      "(715, 100)\n",
      "(715,)\n"
     ]
    },
    {
     "data": {
      "text/plain": [
       "(None, None)"
      ]
     },
     "execution_count": 30,
     "metadata": {},
     "output_type": "execute_result"
    }
   ],
   "source": [
    "print(X_train.shape), print(y_train.shape)"
   ]
  },
  {
   "cell_type": "code",
   "execution_count": 31,
   "id": "c8df3418-7278-46e4-8662-0d465d56bbcc",
   "metadata": {},
   "outputs": [],
   "source": [
    "X_train =X_train.reshape(X_train.shape[0],X_train.shape[1], 1)\n",
    "X_test =X_test.reshape(X_test.shape[0],X_test.shape[1], 1)"
   ]
  },
  {
   "cell_type": "code",
   "execution_count": 34,
   "id": "798e8cd7",
   "metadata": {},
   "outputs": [
    {
     "name": "stdout",
     "output_type": "stream",
     "text": [
      "Requirement already satisfied: tensorflow in c:\\users\\dell\\anaconda3\\lib\\site-packages (2.13.0)\n",
      "Requirement already satisfied: tensorflow-intel==2.13.0 in c:\\users\\dell\\anaconda3\\lib\\site-packages (from tensorflow) (2.13.0)\n",
      "Requirement already satisfied: absl-py>=1.0.0 in c:\\users\\dell\\anaconda3\\lib\\site-packages (from tensorflow-intel==2.13.0->tensorflow) (1.4.0)\n",
      "Requirement already satisfied: astunparse>=1.6.0 in c:\\users\\dell\\anaconda3\\lib\\site-packages (from tensorflow-intel==2.13.0->tensorflow) (1.6.3)\n",
      "Requirement already satisfied: flatbuffers>=23.1.21 in c:\\users\\dell\\anaconda3\\lib\\site-packages (from tensorflow-intel==2.13.0->tensorflow) (23.5.26)\n",
      "Requirement already satisfied: gast<=0.4.0,>=0.2.1 in c:\\users\\dell\\anaconda3\\lib\\site-packages (from tensorflow-intel==2.13.0->tensorflow) (0.4.0)\n",
      "Requirement already satisfied: google-pasta>=0.1.1 in c:\\users\\dell\\anaconda3\\lib\\site-packages (from tensorflow-intel==2.13.0->tensorflow) (0.2.0)\n",
      "Requirement already satisfied: h5py>=2.9.0 in c:\\users\\dell\\anaconda3\\lib\\site-packages (from tensorflow-intel==2.13.0->tensorflow) (3.7.0)\n",
      "Requirement already satisfied: libclang>=13.0.0 in c:\\users\\dell\\anaconda3\\lib\\site-packages (from tensorflow-intel==2.13.0->tensorflow) (16.0.6)\n",
      "Requirement already satisfied: numpy<=1.24.3,>=1.22 in c:\\users\\dell\\anaconda3\\lib\\site-packages (from tensorflow-intel==2.13.0->tensorflow) (1.24.3)\n",
      "Requirement already satisfied: opt-einsum>=2.3.2 in c:\\users\\dell\\anaconda3\\lib\\site-packages (from tensorflow-intel==2.13.0->tensorflow) (3.3.0)\n",
      "Requirement already satisfied: packaging in c:\\users\\dell\\appdata\\roaming\\python\\python311\\site-packages (from tensorflow-intel==2.13.0->tensorflow) (23.1)\n",
      "Requirement already satisfied: protobuf!=4.21.0,!=4.21.1,!=4.21.2,!=4.21.3,!=4.21.4,!=4.21.5,<5.0.0dev,>=3.20.3 in c:\\users\\dell\\anaconda3\\lib\\site-packages (from tensorflow-intel==2.13.0->tensorflow) (4.24.0)\n",
      "Requirement already satisfied: setuptools in c:\\users\\dell\\anaconda3\\lib\\site-packages (from tensorflow-intel==2.13.0->tensorflow) (68.0.0)\n",
      "Requirement already satisfied: six>=1.12.0 in c:\\users\\dell\\appdata\\roaming\\python\\python311\\site-packages (from tensorflow-intel==2.13.0->tensorflow) (1.16.0)\n",
      "Requirement already satisfied: termcolor>=1.1.0 in c:\\users\\dell\\anaconda3\\lib\\site-packages (from tensorflow-intel==2.13.0->tensorflow) (2.3.0)\n",
      "Requirement already satisfied: typing-extensions<4.6.0,>=3.6.6 in c:\\users\\dell\\anaconda3\\lib\\site-packages (from tensorflow-intel==2.13.0->tensorflow) (4.5.0)\n",
      "Requirement already satisfied: wrapt>=1.11.0 in c:\\users\\dell\\anaconda3\\lib\\site-packages (from tensorflow-intel==2.13.0->tensorflow) (1.14.1)\n",
      "Requirement already satisfied: grpcio<2.0,>=1.24.3 in c:\\users\\dell\\anaconda3\\lib\\site-packages (from tensorflow-intel==2.13.0->tensorflow) (1.57.0)\n",
      "Requirement already satisfied: tensorboard<2.14,>=2.13 in c:\\users\\dell\\anaconda3\\lib\\site-packages (from tensorflow-intel==2.13.0->tensorflow) (2.13.0)\n",
      "Requirement already satisfied: tensorflow-estimator<2.14,>=2.13.0 in c:\\users\\dell\\anaconda3\\lib\\site-packages (from tensorflow-intel==2.13.0->tensorflow) (2.13.0)\n",
      "Requirement already satisfied: keras<2.14,>=2.13.1 in c:\\users\\dell\\anaconda3\\lib\\site-packages (from tensorflow-intel==2.13.0->tensorflow) (2.13.1)\n",
      "Requirement already satisfied: tensorflow-io-gcs-filesystem>=0.23.1 in c:\\users\\dell\\anaconda3\\lib\\site-packages (from tensorflow-intel==2.13.0->tensorflow) (0.31.0)\n",
      "Requirement already satisfied: wheel<1.0,>=0.23.0 in c:\\users\\dell\\anaconda3\\lib\\site-packages (from astunparse>=1.6.0->tensorflow-intel==2.13.0->tensorflow) (0.38.4)\n",
      "Requirement already satisfied: google-auth<3,>=1.6.3 in c:\\users\\dell\\anaconda3\\lib\\site-packages (from tensorboard<2.14,>=2.13->tensorflow-intel==2.13.0->tensorflow) (2.22.0)\n",
      "Requirement already satisfied: google-auth-oauthlib<1.1,>=0.5 in c:\\users\\dell\\anaconda3\\lib\\site-packages (from tensorboard<2.14,>=2.13->tensorflow-intel==2.13.0->tensorflow) (1.0.0)\n",
      "Requirement already satisfied: markdown>=2.6.8 in c:\\users\\dell\\anaconda3\\lib\\site-packages (from tensorboard<2.14,>=2.13->tensorflow-intel==2.13.0->tensorflow) (3.4.1)\n",
      "Requirement already satisfied: requests<3,>=2.21.0 in c:\\users\\dell\\anaconda3\\lib\\site-packages (from tensorboard<2.14,>=2.13->tensorflow-intel==2.13.0->tensorflow) (2.31.0)\n",
      "Requirement already satisfied: tensorboard-data-server<0.8.0,>=0.7.0 in c:\\users\\dell\\anaconda3\\lib\\site-packages (from tensorboard<2.14,>=2.13->tensorflow-intel==2.13.0->tensorflow) (0.7.1)\n",
      "Requirement already satisfied: werkzeug>=1.0.1 in c:\\users\\dell\\anaconda3\\lib\\site-packages (from tensorboard<2.14,>=2.13->tensorflow-intel==2.13.0->tensorflow) (2.2.3)\n",
      "Requirement already satisfied: cachetools<6.0,>=2.0.0 in c:\\users\\dell\\anaconda3\\lib\\site-packages (from google-auth<3,>=1.6.3->tensorboard<2.14,>=2.13->tensorflow-intel==2.13.0->tensorflow) (5.3.1)\n",
      "Requirement already satisfied: pyasn1-modules>=0.2.1 in c:\\users\\dell\\anaconda3\\lib\\site-packages (from google-auth<3,>=1.6.3->tensorboard<2.14,>=2.13->tensorflow-intel==2.13.0->tensorflow) (0.2.8)\n",
      "Requirement already satisfied: rsa<5,>=3.1.4 in c:\\users\\dell\\anaconda3\\lib\\site-packages (from google-auth<3,>=1.6.3->tensorboard<2.14,>=2.13->tensorflow-intel==2.13.0->tensorflow) (4.9)\n",
      "Requirement already satisfied: urllib3<2.0 in c:\\users\\dell\\anaconda3\\lib\\site-packages (from google-auth<3,>=1.6.3->tensorboard<2.14,>=2.13->tensorflow-intel==2.13.0->tensorflow) (1.26.16)\n",
      "Requirement already satisfied: requests-oauthlib>=0.7.0 in c:\\users\\dell\\anaconda3\\lib\\site-packages (from google-auth-oauthlib<1.1,>=0.5->tensorboard<2.14,>=2.13->tensorflow-intel==2.13.0->tensorflow) (1.3.1)\n",
      "Requirement already satisfied: charset-normalizer<4,>=2 in c:\\users\\dell\\anaconda3\\lib\\site-packages (from requests<3,>=2.21.0->tensorboard<2.14,>=2.13->tensorflow-intel==2.13.0->tensorflow) (2.0.4)\n",
      "Requirement already satisfied: idna<4,>=2.5 in c:\\users\\dell\\anaconda3\\lib\\site-packages (from requests<3,>=2.21.0->tensorboard<2.14,>=2.13->tensorflow-intel==2.13.0->tensorflow) (3.4)\n",
      "Requirement already satisfied: certifi>=2017.4.17 in c:\\users\\dell\\anaconda3\\lib\\site-packages (from requests<3,>=2.21.0->tensorboard<2.14,>=2.13->tensorflow-intel==2.13.0->tensorflow) (2023.7.22)\n",
      "Requirement already satisfied: MarkupSafe>=2.1.1 in c:\\users\\dell\\anaconda3\\lib\\site-packages (from werkzeug>=1.0.1->tensorboard<2.14,>=2.13->tensorflow-intel==2.13.0->tensorflow) (2.1.1)\n",
      "Requirement already satisfied: pyasn1<0.5.0,>=0.4.6 in c:\\users\\dell\\anaconda3\\lib\\site-packages (from pyasn1-modules>=0.2.1->google-auth<3,>=1.6.3->tensorboard<2.14,>=2.13->tensorflow-intel==2.13.0->tensorflow) (0.4.8)\n",
      "Requirement already satisfied: oauthlib>=3.0.0 in c:\\users\\dell\\anaconda3\\lib\\site-packages (from requests-oauthlib>=0.7.0->google-auth-oauthlib<1.1,>=0.5->tensorboard<2.14,>=2.13->tensorflow-intel==2.13.0->tensorflow) (3.2.2)\n",
      "Note: you may need to restart the kernel to use updated packages.\n"
     ]
    }
   ],
   "source": [
    "pip install tensorflow"
   ]
  },
  {
   "cell_type": "code",
   "execution_count": 35,
   "id": "eae89ef8-f82a-4035-8334-6847789917b1",
   "metadata": {},
   "outputs": [],
   "source": [
    "### create the LSTM model\n",
    "from tensorflow.keras.models import Sequential\n",
    "from tensorflow.keras.layers import Dense\n",
    "from tensorflow.keras.layers import LSTM"
   ]
  },
  {
   "cell_type": "code",
   "execution_count": 36,
   "id": "a0c9b72d-56e3-4a36-9f79-3d43d50c8f30",
   "metadata": {},
   "outputs": [
    {
     "name": "stdout",
     "output_type": "stream",
     "text": [
      "Requirement already satisfied: tensorflow in c:\\users\\dell\\anaconda3\\lib\\site-packages (2.13.0)\n",
      "Requirement already satisfied: tensorflow-intel==2.13.0 in c:\\users\\dell\\anaconda3\\lib\\site-packages (from tensorflow) (2.13.0)\n",
      "Requirement already satisfied: absl-py>=1.0.0 in c:\\users\\dell\\anaconda3\\lib\\site-packages (from tensorflow-intel==2.13.0->tensorflow) (1.4.0)\n",
      "Requirement already satisfied: astunparse>=1.6.0 in c:\\users\\dell\\anaconda3\\lib\\site-packages (from tensorflow-intel==2.13.0->tensorflow) (1.6.3)\n",
      "Requirement already satisfied: flatbuffers>=23.1.21 in c:\\users\\dell\\anaconda3\\lib\\site-packages (from tensorflow-intel==2.13.0->tensorflow) (23.5.26)\n",
      "Requirement already satisfied: gast<=0.4.0,>=0.2.1 in c:\\users\\dell\\anaconda3\\lib\\site-packages (from tensorflow-intel==2.13.0->tensorflow) (0.4.0)\n",
      "Requirement already satisfied: google-pasta>=0.1.1 in c:\\users\\dell\\anaconda3\\lib\\site-packages (from tensorflow-intel==2.13.0->tensorflow) (0.2.0)\n",
      "Requirement already satisfied: h5py>=2.9.0 in c:\\users\\dell\\anaconda3\\lib\\site-packages (from tensorflow-intel==2.13.0->tensorflow) (3.7.0)\n",
      "Requirement already satisfied: libclang>=13.0.0 in c:\\users\\dell\\anaconda3\\lib\\site-packages (from tensorflow-intel==2.13.0->tensorflow) (16.0.6)\n",
      "Requirement already satisfied: numpy<=1.24.3,>=1.22 in c:\\users\\dell\\anaconda3\\lib\\site-packages (from tensorflow-intel==2.13.0->tensorflow) (1.24.3)\n",
      "Requirement already satisfied: opt-einsum>=2.3.2 in c:\\users\\dell\\anaconda3\\lib\\site-packages (from tensorflow-intel==2.13.0->tensorflow) (3.3.0)\n",
      "Requirement already satisfied: packaging in c:\\users\\dell\\appdata\\roaming\\python\\python311\\site-packages (from tensorflow-intel==2.13.0->tensorflow) (23.1)\n",
      "Requirement already satisfied: protobuf!=4.21.0,!=4.21.1,!=4.21.2,!=4.21.3,!=4.21.4,!=4.21.5,<5.0.0dev,>=3.20.3 in c:\\users\\dell\\anaconda3\\lib\\site-packages (from tensorflow-intel==2.13.0->tensorflow) (4.24.0)\n",
      "Requirement already satisfied: setuptools in c:\\users\\dell\\anaconda3\\lib\\site-packages (from tensorflow-intel==2.13.0->tensorflow) (68.0.0)\n",
      "Requirement already satisfied: six>=1.12.0 in c:\\users\\dell\\appdata\\roaming\\python\\python311\\site-packages (from tensorflow-intel==2.13.0->tensorflow) (1.16.0)\n",
      "Requirement already satisfied: termcolor>=1.1.0 in c:\\users\\dell\\anaconda3\\lib\\site-packages (from tensorflow-intel==2.13.0->tensorflow) (2.3.0)\n",
      "Requirement already satisfied: typing-extensions<4.6.0,>=3.6.6 in c:\\users\\dell\\anaconda3\\lib\\site-packages (from tensorflow-intel==2.13.0->tensorflow) (4.5.0)\n",
      "Requirement already satisfied: wrapt>=1.11.0 in c:\\users\\dell\\anaconda3\\lib\\site-packages (from tensorflow-intel==2.13.0->tensorflow) (1.14.1)\n",
      "Requirement already satisfied: grpcio<2.0,>=1.24.3 in c:\\users\\dell\\anaconda3\\lib\\site-packages (from tensorflow-intel==2.13.0->tensorflow) (1.57.0)\n",
      "Requirement already satisfied: tensorboard<2.14,>=2.13 in c:\\users\\dell\\anaconda3\\lib\\site-packages (from tensorflow-intel==2.13.0->tensorflow) (2.13.0)\n",
      "Requirement already satisfied: tensorflow-estimator<2.14,>=2.13.0 in c:\\users\\dell\\anaconda3\\lib\\site-packages (from tensorflow-intel==2.13.0->tensorflow) (2.13.0)\n",
      "Requirement already satisfied: keras<2.14,>=2.13.1 in c:\\users\\dell\\anaconda3\\lib\\site-packages (from tensorflow-intel==2.13.0->tensorflow) (2.13.1)\n",
      "Requirement already satisfied: tensorflow-io-gcs-filesystem>=0.23.1 in c:\\users\\dell\\anaconda3\\lib\\site-packages (from tensorflow-intel==2.13.0->tensorflow) (0.31.0)\n",
      "Requirement already satisfied: wheel<1.0,>=0.23.0 in c:\\users\\dell\\anaconda3\\lib\\site-packages (from astunparse>=1.6.0->tensorflow-intel==2.13.0->tensorflow) (0.38.4)\n",
      "Requirement already satisfied: google-auth<3,>=1.6.3 in c:\\users\\dell\\anaconda3\\lib\\site-packages (from tensorboard<2.14,>=2.13->tensorflow-intel==2.13.0->tensorflow) (2.22.0)\n",
      "Requirement already satisfied: google-auth-oauthlib<1.1,>=0.5 in c:\\users\\dell\\anaconda3\\lib\\site-packages (from tensorboard<2.14,>=2.13->tensorflow-intel==2.13.0->tensorflow) (1.0.0)\n",
      "Requirement already satisfied: markdown>=2.6.8 in c:\\users\\dell\\anaconda3\\lib\\site-packages (from tensorboard<2.14,>=2.13->tensorflow-intel==2.13.0->tensorflow) (3.4.1)\n",
      "Requirement already satisfied: requests<3,>=2.21.0 in c:\\users\\dell\\anaconda3\\lib\\site-packages (from tensorboard<2.14,>=2.13->tensorflow-intel==2.13.0->tensorflow) (2.31.0)\n",
      "Requirement already satisfied: tensorboard-data-server<0.8.0,>=0.7.0 in c:\\users\\dell\\anaconda3\\lib\\site-packages (from tensorboard<2.14,>=2.13->tensorflow-intel==2.13.0->tensorflow) (0.7.1)\n",
      "Requirement already satisfied: werkzeug>=1.0.1 in c:\\users\\dell\\anaconda3\\lib\\site-packages (from tensorboard<2.14,>=2.13->tensorflow-intel==2.13.0->tensorflow) (2.2.3)\n",
      "Requirement already satisfied: cachetools<6.0,>=2.0.0 in c:\\users\\dell\\anaconda3\\lib\\site-packages (from google-auth<3,>=1.6.3->tensorboard<2.14,>=2.13->tensorflow-intel==2.13.0->tensorflow) (5.3.1)\n",
      "Requirement already satisfied: pyasn1-modules>=0.2.1 in c:\\users\\dell\\anaconda3\\lib\\site-packages (from google-auth<3,>=1.6.3->tensorboard<2.14,>=2.13->tensorflow-intel==2.13.0->tensorflow) (0.2.8)\n",
      "Requirement already satisfied: rsa<5,>=3.1.4 in c:\\users\\dell\\anaconda3\\lib\\site-packages (from google-auth<3,>=1.6.3->tensorboard<2.14,>=2.13->tensorflow-intel==2.13.0->tensorflow) (4.9)\n",
      "Requirement already satisfied: urllib3<2.0 in c:\\users\\dell\\anaconda3\\lib\\site-packages (from google-auth<3,>=1.6.3->tensorboard<2.14,>=2.13->tensorflow-intel==2.13.0->tensorflow) (1.26.16)\n",
      "Requirement already satisfied: requests-oauthlib>=0.7.0 in c:\\users\\dell\\anaconda3\\lib\\site-packages (from google-auth-oauthlib<1.1,>=0.5->tensorboard<2.14,>=2.13->tensorflow-intel==2.13.0->tensorflow) (1.3.1)\n",
      "Requirement already satisfied: charset-normalizer<4,>=2 in c:\\users\\dell\\anaconda3\\lib\\site-packages (from requests<3,>=2.21.0->tensorboard<2.14,>=2.13->tensorflow-intel==2.13.0->tensorflow) (2.0.4)\n",
      "Requirement already satisfied: idna<4,>=2.5 in c:\\users\\dell\\anaconda3\\lib\\site-packages (from requests<3,>=2.21.0->tensorboard<2.14,>=2.13->tensorflow-intel==2.13.0->tensorflow) (3.4)\n",
      "Requirement already satisfied: certifi>=2017.4.17 in c:\\users\\dell\\anaconda3\\lib\\site-packages (from requests<3,>=2.21.0->tensorboard<2.14,>=2.13->tensorflow-intel==2.13.0->tensorflow) (2023.7.22)\n",
      "Requirement already satisfied: MarkupSafe>=2.1.1 in c:\\users\\dell\\anaconda3\\lib\\site-packages (from werkzeug>=1.0.1->tensorboard<2.14,>=2.13->tensorflow-intel==2.13.0->tensorflow) (2.1.1)\n",
      "Requirement already satisfied: pyasn1<0.5.0,>=0.4.6 in c:\\users\\dell\\anaconda3\\lib\\site-packages (from pyasn1-modules>=0.2.1->google-auth<3,>=1.6.3->tensorboard<2.14,>=2.13->tensorflow-intel==2.13.0->tensorflow) (0.4.8)\n",
      "Requirement already satisfied: oauthlib>=3.0.0 in c:\\users\\dell\\anaconda3\\lib\\site-packages (from requests-oauthlib>=0.7.0->google-auth-oauthlib<1.1,>=0.5->tensorboard<2.14,>=2.13->tensorflow-intel==2.13.0->tensorflow) (3.2.2)\n"
     ]
    }
   ],
   "source": [
    "!pip install tensorflow"
   ]
  },
  {
   "cell_type": "code",
   "execution_count": 37,
   "id": "8f7ddacf-c4b3-4384-9bad-c858f74f4b8f",
   "metadata": {},
   "outputs": [],
   "source": [
    "### create the LSTM model\n",
    "from tensorflow.keras.models import Sequential\n",
    "from tensorflow.keras.layers import Dense\n",
    "from tensorflow.keras.layers import LSTM"
   ]
  },
  {
   "cell_type": "code",
   "execution_count": 38,
   "id": "57a39dc2-44d2-4fec-991b-e58738e3008e",
   "metadata": {},
   "outputs": [],
   "source": [
    "model=Sequential()\n",
    "model.add(LSTM(50,return_sequences=True,input_shape=(100,1)))\n",
    "model.add(LSTM(50,return_sequences=True))\n",
    "model.add(LSTM(50))\n",
    "model.add(Dense(1))\n",
    "model.compile(loss='mean_squared_error',optimizer='adam')"
   ]
  },
  {
   "cell_type": "code",
   "execution_count": 39,
   "id": "9c7b7dae-54f2-4b97-822a-e6318ec1a14f",
   "metadata": {},
   "outputs": [
    {
     "name": "stdout",
     "output_type": "stream",
     "text": [
      "Model: \"sequential\"\n",
      "_________________________________________________________________\n",
      " Layer (type)                Output Shape              Param #   \n",
      "=================================================================\n",
      " lstm (LSTM)                 (None, 100, 50)           10400     \n",
      "                                                                 \n",
      " lstm_1 (LSTM)               (None, 100, 50)           20200     \n",
      "                                                                 \n",
      " lstm_2 (LSTM)               (None, 50)                20200     \n",
      "                                                                 \n",
      " dense (Dense)               (None, 1)                 51        \n",
      "                                                                 \n",
      "=================================================================\n",
      "Total params: 50851 (198.64 KB)\n",
      "Trainable params: 50851 (198.64 KB)\n",
      "Non-trainable params: 0 (0.00 Byte)\n",
      "_________________________________________________________________\n"
     ]
    }
   ],
   "source": [
    "model.summary()"
   ]
  },
  {
   "cell_type": "code",
   "execution_count": 40,
   "id": "6e4d78bf-87fa-4c32-aae0-755607546aba",
   "metadata": {},
   "outputs": [
    {
     "name": "stdout",
     "output_type": "stream",
     "text": [
      "Epoch 1/100\n",
      "12/12 [==============================] - 9s 257ms/step - loss: 0.0364 - val_loss: 7.0030e-04\n",
      "Epoch 2/100\n",
      "12/12 [==============================] - 2s 168ms/step - loss: 0.0124 - val_loss: 0.0022\n",
      "Epoch 3/100\n",
      "12/12 [==============================] - 2s 176ms/step - loss: 0.0104 - val_loss: 4.7089e-04\n",
      "Epoch 4/100\n",
      "12/12 [==============================] - 2s 155ms/step - loss: 0.0087 - val_loss: 3.5144e-04\n",
      "Epoch 5/100\n",
      "12/12 [==============================] - 2s 156ms/step - loss: 0.0083 - val_loss: 8.9514e-04\n",
      "Epoch 6/100\n",
      "12/12 [==============================] - 2s 162ms/step - loss: 0.0074 - val_loss: 2.8578e-04\n",
      "Epoch 7/100\n",
      "12/12 [==============================] - 2s 177ms/step - loss: 0.0073 - val_loss: 4.4175e-04\n",
      "Epoch 8/100\n",
      "12/12 [==============================] - 2s 172ms/step - loss: 0.0069 - val_loss: 5.2285e-04\n",
      "Epoch 9/100\n",
      "12/12 [==============================] - 2s 195ms/step - loss: 0.0062 - val_loss: 4.3067e-04\n",
      "Epoch 10/100\n",
      "12/12 [==============================] - 2s 180ms/step - loss: 0.0055 - val_loss: 9.5764e-04\n",
      "Epoch 11/100\n",
      "12/12 [==============================] - 2s 178ms/step - loss: 0.0055 - val_loss: 8.6003e-04\n",
      "Epoch 12/100\n",
      "12/12 [==============================] - 2s 204ms/step - loss: 0.0046 - val_loss: 2.3852e-04\n",
      "Epoch 13/100\n",
      "12/12 [==============================] - 2s 157ms/step - loss: 0.0045 - val_loss: 3.2083e-04\n",
      "Epoch 14/100\n",
      "12/12 [==============================] - 2s 209ms/step - loss: 0.0044 - val_loss: 8.5848e-04\n",
      "Epoch 15/100\n",
      "12/12 [==============================] - 2s 197ms/step - loss: 0.0047 - val_loss: 3.1256e-04\n",
      "Epoch 16/100\n",
      "12/12 [==============================] - 2s 163ms/step - loss: 0.0037 - val_loss: 2.8505e-04\n",
      "Epoch 17/100\n",
      "12/12 [==============================] - 2s 165ms/step - loss: 0.0052 - val_loss: 7.7687e-04\n",
      "Epoch 18/100\n",
      "12/12 [==============================] - 2s 184ms/step - loss: 0.0037 - val_loss: 4.7306e-04\n",
      "Epoch 19/100\n",
      "12/12 [==============================] - 2s 179ms/step - loss: 0.0038 - val_loss: 3.8033e-04\n",
      "Epoch 20/100\n",
      "12/12 [==============================] - 2s 188ms/step - loss: 0.0033 - val_loss: 2.3850e-04\n",
      "Epoch 21/100\n",
      "12/12 [==============================] - 2s 172ms/step - loss: 0.0031 - val_loss: 2.6790e-04\n",
      "Epoch 22/100\n",
      "12/12 [==============================] - 3s 239ms/step - loss: 0.0027 - val_loss: 2.3360e-04\n",
      "Epoch 23/100\n",
      "12/12 [==============================] - 3s 238ms/step - loss: 0.0029 - val_loss: 2.5079e-04\n",
      "Epoch 24/100\n",
      "12/12 [==============================] - 2s 193ms/step - loss: 0.0039 - val_loss: 2.3346e-04\n",
      "Epoch 25/100\n",
      "12/12 [==============================] - 2s 196ms/step - loss: 0.0033 - val_loss: 2.7187e-04\n",
      "Epoch 26/100\n",
      "12/12 [==============================] - 2s 197ms/step - loss: 0.0028 - val_loss: 2.1157e-04\n",
      "Epoch 27/100\n",
      "12/12 [==============================] - 2s 208ms/step - loss: 0.0026 - val_loss: 2.1680e-04\n",
      "Epoch 28/100\n",
      "12/12 [==============================] - 2s 211ms/step - loss: 0.0023 - val_loss: 2.2875e-04\n",
      "Epoch 29/100\n",
      "12/12 [==============================] - 2s 199ms/step - loss: 0.0025 - val_loss: 2.0731e-04\n",
      "Epoch 30/100\n",
      "12/12 [==============================] - 2s 183ms/step - loss: 0.0036 - val_loss: 2.2960e-04\n",
      "Epoch 31/100\n",
      "12/12 [==============================] - 2s 178ms/step - loss: 0.0030 - val_loss: 2.1780e-04\n",
      "Epoch 32/100\n",
      "12/12 [==============================] - 2s 209ms/step - loss: 0.0024 - val_loss: 2.2184e-04\n",
      "Epoch 33/100\n",
      "12/12 [==============================] - 2s 176ms/step - loss: 0.0021 - val_loss: 2.0953e-04\n",
      "Epoch 34/100\n",
      "12/12 [==============================] - 2s 203ms/step - loss: 0.0021 - val_loss: 1.9315e-04\n",
      "Epoch 35/100\n",
      "12/12 [==============================] - 3s 227ms/step - loss: 0.0048 - val_loss: 6.8868e-04\n",
      "Epoch 36/100\n",
      "12/12 [==============================] - 3s 226ms/step - loss: 0.0026 - val_loss: 2.9560e-04\n",
      "Epoch 37/100\n",
      "12/12 [==============================] - 3s 208ms/step - loss: 0.0024 - val_loss: 3.4472e-04\n",
      "Epoch 38/100\n",
      "12/12 [==============================] - 2s 184ms/step - loss: 0.0017 - val_loss: 2.3977e-04\n",
      "Epoch 39/100\n",
      "12/12 [==============================] - 2s 175ms/step - loss: 0.0021 - val_loss: 2.3095e-04\n",
      "Epoch 40/100\n",
      "12/12 [==============================] - 2s 193ms/step - loss: 0.0025 - val_loss: 2.0261e-04\n",
      "Epoch 41/100\n",
      "12/12 [==============================] - 2s 196ms/step - loss: 0.0020 - val_loss: 2.1952e-04\n",
      "Epoch 42/100\n",
      "12/12 [==============================] - 3s 219ms/step - loss: 0.0018 - val_loss: 2.1768e-04\n",
      "Epoch 43/100\n",
      "12/12 [==============================] - 2s 177ms/step - loss: 0.0020 - val_loss: 2.4632e-04\n",
      "Epoch 44/100\n",
      "12/12 [==============================] - 2s 195ms/step - loss: 0.0016 - val_loss: 2.0530e-04\n",
      "Epoch 45/100\n",
      "12/12 [==============================] - 2s 179ms/step - loss: 0.0017 - val_loss: 2.0595e-04\n",
      "Epoch 46/100\n",
      "12/12 [==============================] - 2s 192ms/step - loss: 0.0018 - val_loss: 2.0264e-04\n",
      "Epoch 47/100\n",
      "12/12 [==============================] - 2s 174ms/step - loss: 0.0015 - val_loss: 2.4863e-04\n",
      "Epoch 48/100\n",
      "12/12 [==============================] - 2s 192ms/step - loss: 0.0016 - val_loss: 2.1711e-04\n",
      "Epoch 49/100\n",
      "12/12 [==============================] - 3s 216ms/step - loss: 0.0015 - val_loss: 2.2549e-04\n",
      "Epoch 50/100\n",
      "12/12 [==============================] - 2s 187ms/step - loss: 0.0016 - val_loss: 2.3558e-04\n",
      "Epoch 51/100\n",
      "12/12 [==============================] - 2s 175ms/step - loss: 0.0014 - val_loss: 2.0269e-04\n",
      "Epoch 52/100\n",
      "12/12 [==============================] - 2s 176ms/step - loss: 0.0015 - val_loss: 2.4551e-04\n",
      "Epoch 53/100\n",
      "12/12 [==============================] - 2s 177ms/step - loss: 0.0015 - val_loss: 2.3318e-04\n",
      "Epoch 54/100\n",
      "12/12 [==============================] - 2s 178ms/step - loss: 0.0018 - val_loss: 3.1471e-04\n",
      "Epoch 55/100\n",
      "12/12 [==============================] - 2s 197ms/step - loss: 0.0020 - val_loss: 2.4810e-04\n",
      "Epoch 56/100\n",
      "12/12 [==============================] - 2s 203ms/step - loss: 0.0018 - val_loss: 2.2378e-04\n",
      "Epoch 57/100\n",
      "12/12 [==============================] - 2s 193ms/step - loss: 0.0016 - val_loss: 2.3867e-04\n",
      "Epoch 58/100\n",
      "12/12 [==============================] - 2s 194ms/step - loss: 0.0014 - val_loss: 2.6181e-04\n",
      "Epoch 59/100\n",
      "12/12 [==============================] - 2s 198ms/step - loss: 0.0015 - val_loss: 3.2098e-04\n",
      "Epoch 60/100\n",
      "12/12 [==============================] - 2s 204ms/step - loss: 0.0013 - val_loss: 3.3979e-04\n",
      "Epoch 61/100\n",
      "12/12 [==============================] - 2s 205ms/step - loss: 0.0094 - val_loss: 0.0019\n",
      "Epoch 62/100\n",
      "12/12 [==============================] - 3s 212ms/step - loss: 0.0038 - val_loss: 2.6508e-04\n",
      "Epoch 63/100\n",
      "12/12 [==============================] - 3s 214ms/step - loss: 0.0037 - val_loss: 3.6980e-04\n",
      "Epoch 64/100\n",
      "12/12 [==============================] - 2s 182ms/step - loss: 0.0028 - val_loss: 2.4052e-04\n",
      "Epoch 65/100\n",
      "12/12 [==============================] - 2s 167ms/step - loss: 0.0024 - val_loss: 2.4792e-04\n",
      "Epoch 66/100\n",
      "12/12 [==============================] - 2s 165ms/step - loss: 0.0021 - val_loss: 2.1421e-04\n",
      "Epoch 67/100\n",
      "12/12 [==============================] - 2s 177ms/step - loss: 0.0019 - val_loss: 2.1734e-04\n",
      "Epoch 68/100\n",
      "12/12 [==============================] - 2s 169ms/step - loss: 0.0031 - val_loss: 2.4333e-04\n",
      "Epoch 69/100\n",
      "12/12 [==============================] - 3s 220ms/step - loss: 0.0027 - val_loss: 1.8834e-04\n",
      "Epoch 70/100\n",
      "12/12 [==============================] - 3s 220ms/step - loss: 0.0018 - val_loss: 2.4775e-04\n",
      "Epoch 71/100\n",
      "12/12 [==============================] - 2s 198ms/step - loss: 0.0017 - val_loss: 1.9472e-04\n",
      "Epoch 72/100\n",
      "12/12 [==============================] - 2s 201ms/step - loss: 0.0015 - val_loss: 1.9880e-04\n",
      "Epoch 73/100\n",
      "12/12 [==============================] - 2s 171ms/step - loss: 0.0014 - val_loss: 2.1861e-04\n",
      "Epoch 74/100\n",
      "12/12 [==============================] - 2s 178ms/step - loss: 0.0016 - val_loss: 2.0963e-04\n",
      "Epoch 75/100\n",
      "12/12 [==============================] - 2s 191ms/step - loss: 0.0012 - val_loss: 1.8941e-04\n",
      "Epoch 76/100\n",
      "12/12 [==============================] - 2s 192ms/step - loss: 0.0012 - val_loss: 2.1869e-04\n",
      "Epoch 77/100\n",
      "12/12 [==============================] - 3s 220ms/step - loss: 0.0012 - val_loss: 1.9104e-04\n",
      "Epoch 78/100\n"
     ]
    },
    {
     "name": "stdout",
     "output_type": "stream",
     "text": [
      "12/12 [==============================] - 2s 193ms/step - loss: 0.0011 - val_loss: 1.9129e-04\n",
      "Epoch 79/100\n",
      "12/12 [==============================] - 2s 174ms/step - loss: 0.0013 - val_loss: 2.7003e-04\n",
      "Epoch 80/100\n",
      "12/12 [==============================] - 2s 190ms/step - loss: 0.0024 - val_loss: 4.8119e-04\n",
      "Epoch 81/100\n",
      "12/12 [==============================] - 2s 174ms/step - loss: 0.0020 - val_loss: 1.9447e-04\n",
      "Epoch 82/100\n",
      "12/12 [==============================] - 2s 177ms/step - loss: 0.0015 - val_loss: 2.2838e-04\n",
      "Epoch 83/100\n",
      "12/12 [==============================] - 2s 206ms/step - loss: 0.0015 - val_loss: 1.9543e-04\n",
      "Epoch 84/100\n",
      "12/12 [==============================] - 2s 206ms/step - loss: 0.0014 - val_loss: 2.2304e-04\n",
      "Epoch 85/100\n",
      "12/12 [==============================] - 2s 206ms/step - loss: 0.0016 - val_loss: 2.0562e-04\n",
      "Epoch 86/100\n",
      "12/12 [==============================] - 2s 195ms/step - loss: 0.0014 - val_loss: 1.8998e-04\n",
      "Epoch 87/100\n",
      "12/12 [==============================] - 2s 181ms/step - loss: 0.0015 - val_loss: 2.5191e-04\n",
      "Epoch 88/100\n",
      "12/12 [==============================] - 2s 182ms/step - loss: 0.0013 - val_loss: 2.0498e-04\n",
      "Epoch 89/100\n",
      "12/12 [==============================] - 2s 173ms/step - loss: 0.0014 - val_loss: 2.0216e-04\n",
      "Epoch 90/100\n",
      "12/12 [==============================] - 2s 178ms/step - loss: 0.0013 - val_loss: 1.8884e-04\n",
      "Epoch 91/100\n",
      "12/12 [==============================] - 3s 215ms/step - loss: 0.0014 - val_loss: 1.9807e-04\n",
      "Epoch 92/100\n",
      "12/12 [==============================] - 2s 180ms/step - loss: 0.0013 - val_loss: 2.5920e-04\n",
      "Epoch 93/100\n",
      "12/12 [==============================] - 2s 183ms/step - loss: 0.0013 - val_loss: 1.9472e-04\n",
      "Epoch 94/100\n",
      "12/12 [==============================] - 2s 200ms/step - loss: 0.0012 - val_loss: 1.9150e-04\n",
      "Epoch 95/100\n",
      "12/12 [==============================] - 2s 199ms/step - loss: 0.0014 - val_loss: 2.0839e-04\n",
      "Epoch 96/100\n",
      "12/12 [==============================] - 3s 252ms/step - loss: 0.0011 - val_loss: 1.9512e-04\n",
      "Epoch 97/100\n",
      "12/12 [==============================] - 2s 205ms/step - loss: 0.0014 - val_loss: 1.9223e-04\n",
      "Epoch 98/100\n",
      "12/12 [==============================] - 2s 208ms/step - loss: 0.0018 - val_loss: 1.8647e-04\n",
      "Epoch 99/100\n",
      "12/12 [==============================] - 2s 184ms/step - loss: 0.0013 - val_loss: 2.0862e-04\n",
      "Epoch 100/100\n",
      "12/12 [==============================] - 2s 158ms/step - loss: 0.0012 - val_loss: 4.1809e-04\n"
     ]
    },
    {
     "data": {
      "text/plain": [
       "<keras.src.callbacks.History at 0x1816161d2d0>"
      ]
     },
     "execution_count": 40,
     "metadata": {},
     "output_type": "execute_result"
    }
   ],
   "source": [
    "model.fit(X_train,y_train,validation_data=(X_test,ytest),epochs=100,batch_size=64,verbose=1)"
   ]
  },
  {
   "cell_type": "code",
   "execution_count": 41,
   "id": "bc7688ef-fc99-4902-9394-3341b4d0e5c8",
   "metadata": {},
   "outputs": [
    {
     "name": "stdout",
     "output_type": "stream",
     "text": [
      "23/23 [==============================] - 3s 75ms/step\n",
      "11/11 [==============================] - 1s 72ms/step\n"
     ]
    }
   ],
   "source": [
    "## lets do the predictiont and check performance metrics\n",
    "train_predict=model.predict(X_train)\n",
    "test_predict=model.predict(X_test)"
   ]
  },
  {
   "cell_type": "code",
   "execution_count": 42,
   "id": "0a2aae1d-be99-4c67-8e5a-82e259ddf5bb",
   "metadata": {},
   "outputs": [],
   "source": [
    "## transformback to original form\n",
    "train_predict=scaler.inverse_transform(train_predict)\n",
    "test_predict=scaler.inverse_transform(test_predict)"
   ]
  },
  {
   "cell_type": "code",
   "execution_count": 43,
   "id": "b1640aa8-2be0-4d6a-ae55-bc0e0300c48b",
   "metadata": {},
   "outputs": [
    {
     "data": {
      "text/plain": [
       "228.82015196597538"
      ]
     },
     "execution_count": 43,
     "metadata": {},
     "output_type": "execute_result"
    }
   ],
   "source": [
    "### calculate RMSE performance metrics\n",
    "import math\n",
    "from sklearn.metrics import mean_squared_error\n",
    "math.sqrt(mean_squared_error(y_train,train_predict))"
   ]
  },
  {
   "cell_type": "code",
   "execution_count": 44,
   "id": "5c897ca2-f53b-49cc-bde7-625741a57132",
   "metadata": {},
   "outputs": [
    {
     "data": {
      "text/plain": [
       "164.19671342893204"
      ]
     },
     "execution_count": 44,
     "metadata": {},
     "output_type": "execute_result"
    }
   ],
   "source": [
    "### Test Data RMSE\n",
    "math.sqrt(mean_squared_error(ytest,test_predict))"
   ]
  },
  {
   "cell_type": "code",
   "execution_count": 45,
   "id": "15d0e54f-089c-4938-b53f-5d264ff36057",
   "metadata": {},
   "outputs": [
    {
     "data": {
      "image/png": "[encoded data removed]",
      "text/plain": [
       "<Figure size 640x480 with 1 Axes>"
      ]
     },
     "metadata": {},
     "output_type": "display_data"
    }
   ],
   "source": [
    "### plotting\n",
    "# shift train predictions for plotting\n",
    "look_back=100\n",
    "trainPredictPlot=numpy.empty_like(df1)\n",
    "trainPredictPlot[:, :]=np.nan\n",
    "trainPredictPlot[look_back:len(train_predict)+look_back, :]=train_predict\n",
    "#shift test predictions for plotting\n",
    "testPredictPlot=numpy.empty_like(df1)\n",
    "testPredictPlot[:, :] =numpy.nan\n",
    "testPredictPlot[len(train_predict)+(look_back*2)+1:len(df1)-1, :]= test_predict\n",
    "# plot baseline and predictions\n",
    "plt.plot(scaler.inverse_transform(df1))\n",
    "plt.plot(trainPredictPlot)\n",
    "plt.plot(testPredictPlot)\n",
    "plt.show()"
   ]
  },
  {
   "cell_type": "code",
   "execution_count": 46,
   "id": "e59bdbd1-a9da-468c-8b75-be00b326e652",
   "metadata": {},
   "outputs": [],
   "source": [
    "import tensorflow as tf"
   ]
  },
  {
   "cell_type": "code",
   "execution_count": 47,
   "id": "7012cc34-7da3-4109-ba17-060edac6e04a",
   "metadata": {},
   "outputs": [
    {
     "data": {
      "text/plain": [
       "'2.13.0'"
      ]
     },
     "execution_count": 47,
     "metadata": {},
     "output_type": "execute_result"
    }
   ],
   "source": [
    "tf.__version__"
   ]
  },
  {
   "cell_type": "code",
   "execution_count": 48,
   "id": "2b5568d0-7cb2-4f07-b915-858a1be555a1",
   "metadata": {},
   "outputs": [
    {
     "name": "stdout",
     "output_type": "stream",
     "text": [
      "23/23 [==============================] - 1s 25ms/step\n",
      "11/11 [==============================] - 0s 29ms/step\n"
     ]
    }
   ],
   "source": [
    "### lets do the prediction and check performance metrics\n",
    "train_predict=model.predict(X_train)\n",
    "test_predict=model.predict(X_test)"
   ]
  },
  {
   "cell_type": "code",
   "execution_count": 49,
   "id": "f5ed0b8f-4a74-4a4b-b6ae-bd130c3a2dab",
   "metadata": {},
   "outputs": [],
   "source": [
    "## transformback to original form\n",
    "train_predict=scaler.inverse_transform(train_predict)\n",
    "test_predict=scaler.inverse_transform(test_predict)"
   ]
  },
  {
   "cell_type": "code",
   "execution_count": 50,
   "id": "895116f0-b282-4ee6-9f7f-a1720d5aeee4",
   "metadata": {},
   "outputs": [
    {
     "data": {
      "text/plain": [
       "228.82015196597538"
      ]
     },
     "execution_count": 50,
     "metadata": {},
     "output_type": "execute_result"
    }
   ],
   "source": [
    "### calculate RMSE TO ORIGINAL FORM\n",
    "import math\n",
    "from sklearn.metrics import mean_squared_error\n",
    "math.sqrt(mean_squared_error(y_train,train_predict))\n"
   ]
  },
  {
   "cell_type": "code",
   "execution_count": 51,
   "id": "431e46d1-7e59-4dcb-9c3b-643ff094ba83",
   "metadata": {},
   "outputs": [
    {
     "data": {
      "text/plain": [
       "341"
      ]
     },
     "execution_count": 51,
     "metadata": {},
     "output_type": "execute_result"
    }
   ],
   "source": [
    "441-100\n"
   ]
  },
  {
   "cell_type": "code",
   "execution_count": 52,
   "id": "c29bbe85-dd90-4f81-a79f-f95f2023e4d3",
   "metadata": {},
   "outputs": [
    {
     "data": {
      "text/plain": [
       "440"
      ]
     },
     "execution_count": 52,
     "metadata": {},
     "output_type": "execute_result"
    }
   ],
   "source": [
    "len(test_data)"
   ]
  },
  {
   "cell_type": "code",
   "execution_count": 53,
   "id": "692bdc1e-d62b-409a-92da-fbdc5fdcc496",
   "metadata": {},
   "outputs": [
    {
     "data": {
      "text/plain": [
       "(1, 99)"
      ]
     },
     "execution_count": 53,
     "metadata": {},
     "output_type": "execute_result"
    }
   ],
   "source": [
    "x_input=test_data[341:].reshape(1,-1)\n",
    "x_input.shape"
   ]
  },
  {
   "cell_type": "code",
   "execution_count": 54,
   "id": "208e9800-9767-4cbb-9df2-472dea3ffb38",
   "metadata": {},
   "outputs": [],
   "source": [
    "x_input=test_data[341:].reshape(1,-1)"
   ]
  },
  {
   "cell_type": "code",
   "execution_count": 55,
   "id": "22315700-119f-4bfc-9587-1a7547b515d0",
   "metadata": {},
   "outputs": [
    {
     "data": {
      "text/plain": [
       "(1, 99)"
      ]
     },
     "execution_count": 55,
     "metadata": {},
     "output_type": "execute_result"
    }
   ],
   "source": [
    "x_input.shape"
   ]
  },
  {
   "cell_type": "code",
   "execution_count": 56,
   "id": "bfb74f59-a1c0-4a65-8332-76ddae64ce49",
   "metadata": {},
   "outputs": [
    {
     "data": {
      "text/plain": [
       "[0.12884157795867246,\n",
       " 0.12726361928616153,\n",
       " 0.13507827175954912,\n",
       " 0.13906073888541015,\n",
       " 0.1454226675015654,\n",
       " 0.14860363180964303,\n",
       " 0.14725109580463364,\n",
       " 0.14256731371321218,\n",
       " 0.14482154038822787,\n",
       " 0.13823418910457103,\n",
       " 0.13515341264871633,\n",
       " 0.1334001252348152,\n",
       " 0.14707576706324355,\n",
       " 0.14619912335629304,\n",
       " 0.14624921728240442,\n",
       " 0.14935504070131495,\n",
       " 0.15226048841577955,\n",
       " 0.14980588603631806,\n",
       " 0.14572323105823415,\n",
       " 0.14649968691296178,\n",
       " 0.14259236067626796,\n",
       " 0.14256731371321218,\n",
       " 0.15421415153412643,\n",
       " 0.15739511584220411,\n",
       " 0.15716969317470253,\n",
       " 0.1545397620538509,\n",
       " 0.15180964308077638,\n",
       " 0.1476518472135253,\n",
       " 0.16713838447088286,\n",
       " 0.16696305572949277,\n",
       " 0.16262993112085156,\n",
       " 0.16710081402629928,\n",
       " 0.16758922980588598,\n",
       " 0.16463368816530988,\n",
       " 0.1633813400125234,\n",
       " 0.1633813400125234,\n",
       " 0.16493425172197868,\n",
       " 0.17084533500313087,\n",
       " 0.17112085159674384,\n",
       " 0.1687163431433938,\n",
       " 0.16210394489668123,\n",
       " 0.16280525986224165,\n",
       " 0.1656856606136506,\n",
       " 0.17179711959924854,\n",
       " 0.17648090169067,\n",
       " 0.17635566687539134,\n",
       " 0.1834690043832185,\n",
       " 0.1856230432060112,\n",
       " 0.18219160926737632,\n",
       " 0.18126487163431432,\n",
       " 0.1777833437695679,\n",
       " 0.18467125860989347,\n",
       " 0.18564809016906697,\n",
       " 0.19273638071383836,\n",
       " 0.1915341264871634,\n",
       " 0.19313713212273004,\n",
       " 0.19829680651221032,\n",
       " 0.1955666875391358,\n",
       " 0.1957921102066374,\n",
       " 0.1931621790857858,\n",
       " 0.2007764558547276,\n",
       " 0.19997495303694424,\n",
       " 0.19644333124608637,\n",
       " 0.2034314339386349,\n",
       " 0.2064120225422667,\n",
       " 0.2072636192861615,\n",
       " 0.21823418910457104,\n",
       " 0.21445209768315587,\n",
       " 0.21162179085785848,\n",
       " 0.21282404508453345,\n",
       " 0.20999373825923606,\n",
       " 0.20480901690670006,\n",
       " 0.20348152786474638,\n",
       " 0.20771446462116466,\n",
       " 0.20964308077645577,\n",
       " 0.21001878522229173,\n",
       " 0.21828428303068248,\n",
       " 0.2176330619912335,\n",
       " 0.22106449592986843,\n",
       " 0.21613024420788973,\n",
       " 0.21314965560425791,\n",
       " 0.215178459611772,\n",
       " 0.21735754539762048,\n",
       " 0.21956167814652466,\n",
       " 0.21635566687539132,\n",
       " 0.22289292423293672,\n",
       " 0.22444583594239192,\n",
       " 0.22232936756418276,\n",
       " 0.21475266123982467,\n",
       " 0.21122103944896675,\n",
       " 0.1882279273638071,\n",
       " 0.18036318096430803,\n",
       " 0.18274264245460237,\n",
       " 0.1787100814026299,\n",
       " 0.17815904821540385,\n",
       " 0.17770820288040068,\n",
       " 0.18189104571070758,\n",
       " 0.1768566061365059,\n",
       " 0.1746524733876017]"
      ]
     },
     "execution_count": 56,
     "metadata": {},
     "output_type": "execute_result"
    }
   ],
   "source": [
    "temp_input=list(x_input)\n",
    "temp_input[0].tolist()"
   ]
  },
  {
   "cell_type": "code",
   "execution_count": 57,
   "id": "56ab76de-0e52-4b73-8ee0-71df236674d6",
   "metadata": {},
   "outputs": [
    {
     "data": {
      "text/plain": [
       "[array([0.12884158, 0.12726362, 0.13507827, 0.13906074, 0.14542267,\n",
       "        0.14860363, 0.1472511 , 0.14256731, 0.14482154, 0.13823419,\n",
       "        0.13515341, 0.13340013, 0.14707577, 0.14619912, 0.14624922,\n",
       "        0.14935504, 0.15226049, 0.14980589, 0.14572323, 0.14649969,\n",
       "        0.14259236, 0.14256731, 0.15421415, 0.15739512, 0.15716969,\n",
       "        0.15453976, 0.15180964, 0.14765185, 0.16713838, 0.16696306,\n",
       "        0.16262993, 0.16710081, 0.16758923, 0.16463369, 0.16338134,\n",
       "        0.16338134, 0.16493425, 0.17084534, 0.17112085, 0.16871634,\n",
       "        0.16210394, 0.16280526, 0.16568566, 0.17179712, 0.1764809 ,\n",
       "        0.17635567, 0.183469  , 0.18562304, 0.18219161, 0.18126487,\n",
       "        0.17778334, 0.18467126, 0.18564809, 0.19273638, 0.19153413,\n",
       "        0.19313713, 0.19829681, 0.19556669, 0.19579211, 0.19316218,\n",
       "        0.20077646, 0.19997495, 0.19644333, 0.20343143, 0.20641202,\n",
       "        0.20726362, 0.21823419, 0.2144521 , 0.21162179, 0.21282405,\n",
       "        0.20999374, 0.20480902, 0.20348153, 0.20771446, 0.20964308,\n",
       "        0.21001879, 0.21828428, 0.21763306, 0.2210645 , 0.21613024,\n",
       "        0.21314966, 0.21517846, 0.21735755, 0.21956168, 0.21635567,\n",
       "        0.22289292, 0.22444584, 0.22232937, 0.21475266, 0.21122104,\n",
       "        0.18822793, 0.18036318, 0.18274264, 0.17871008, 0.17815905,\n",
       "        0.1777082 , 0.18189105, 0.17685661, 0.17465247])]"
      ]
     },
     "execution_count": 57,
     "metadata": {},
     "output_type": "execute_result"
    }
   ],
   "source": [
    "temp_input"
   ]
  },
  {
   "cell_type": "code",
   "execution_count": 58,
   "id": "1037acf8-a54e-4e1b-a2bb-689f2889dbe7",
   "metadata": {},
   "outputs": [
    {
     "name": "stdout",
     "output_type": "stream",
     "text": [
      "[0.19945851]\n",
      "2\n",
      "[0.19945851]\n",
      "3\n",
      "[0.19945851]\n",
      "4\n",
      "[0.19945851]\n",
      "5\n",
      "[0.19945851]\n",
      "6\n",
      "[0.19945851]\n",
      "7\n",
      "[0.19945851]\n",
      "8\n",
      "[0.19945851]\n",
      "9\n",
      "[0.19945851]\n",
      "10\n",
      "[0.19945851]\n",
      "11\n",
      "[0.19945851]\n",
      "12\n",
      "[0.19945851]\n",
      "13\n",
      "[0.19945851]\n",
      "14\n",
      "[0.19945851]\n",
      "15\n",
      "[0.19945851]\n",
      "16\n",
      "[0.19945851]\n",
      "17\n",
      "[0.19945851]\n",
      "18\n",
      "[0.19945851]\n",
      "19\n",
      "[0.19945851]\n",
      "20\n",
      "[0.19945851]\n",
      "21\n",
      "[0.19945851]\n",
      "22\n",
      "[0.19945851]\n",
      "23\n",
      "[0.19945851]\n",
      "24\n",
      "[0.19945851]\n",
      "25\n",
      "[0.19945851]\n",
      "26\n",
      "[0.19945851]\n",
      "27\n",
      "[0.19945851]\n",
      "28\n",
      "[0.19945851]\n",
      "29\n",
      "[0.19945851]\n",
      "30\n",
      "[[0.199458509683609], [0.199458509683609], [0.199458509683609], [0.199458509683609], [0.199458509683609], [0.199458509683609], [0.199458509683609], [0.199458509683609], [0.199458509683609], [0.199458509683609], [0.199458509683609], [0.199458509683609], [0.199458509683609], [0.199458509683609], [0.199458509683609], [0.199458509683609], [0.199458509683609], [0.199458509683609], [0.199458509683609], [0.199458509683609], [0.199458509683609], [0.199458509683609], [0.199458509683609], [0.199458509683609], [0.199458509683609], [0.199458509683609], [0.199458509683609], [0.199458509683609], [0.199458509683609]]\n"
     ]
    }
   ],
   "source": [
    "# demonstrate prediction for next 10 days\n",
    "from numpy import array\n",
    "\n",
    "lst_output=[]\n",
    "n_steps=99\n",
    "i=0\n",
    "while(i<29):\n",
    "    \n",
    "    if(len(temp_input)>99):\n",
    "        #print(temp_input)\n",
    "        x_input=np.array(temp_input[1:])\n",
    "        print(\"{} day input {}\".format(i,x_input))\n",
    "        x_input=x_input.reshape(1,-1)\n",
    "        x_input = x_input.reshape((1, n_steps, 1))\n",
    "        #print(x_input)\n",
    "        yhat = model.predict(x_input, verbose=0)\n",
    "        print(\"{} day output {}\".format(i,yhat))\n",
    "        temp_input.extend(yhat[0].tolist())\n",
    "        temp_input=temp_input[1:]\n",
    "        #print(temp_input)\n",
    "        lst_output.extend(yhat.tolist())\n",
    "        i=i+1\n",
    "    else:\n",
    "        x_input = x_input.reshape((1, n_steps,1))\n",
    "        yhat = model.predict(x_input, verbose=0)\n",
    "        print(yhat[0])\n",
    "        temp_input.extend(yhat[0].tolist())\n",
    "        print(len(temp_input))\n",
    "        lst_output.extend(yhat.tolist())\n",
    "        i=i+1\n",
    "        \n",
    "        \n",
    "print(lst_output)"
   ]
  },
  {
   "cell_type": "code",
   "execution_count": 59,
   "id": "fdb230e5-7858-4595-b984-008941bc680d",
   "metadata": {},
   "outputs": [],
   "source": [
    "day_new=np.arange(1,101)\n",
    "day_pred=np.arange(101,131)"
   ]
  },
  {
   "cell_type": "code",
   "execution_count": 60,
   "id": "b129a978-d4e4-4ebc-9518-8f44a3f942d3",
   "metadata": {},
   "outputs": [],
   "source": [
    "import matplotlib.pyplot as plt"
   ]
  },
  {
   "cell_type": "code",
   "execution_count": 61,
   "id": "162bcb0b-6a0a-4662-9257-33a6fe1f89ae",
   "metadata": {},
   "outputs": [
    {
     "data": {
      "text/plain": [
       "1256"
      ]
     },
     "execution_count": 61,
     "metadata": {},
     "output_type": "execute_result"
    }
   ],
   "source": [
    "len(df1)"
   ]
  },
  {
   "cell_type": "code",
   "execution_count": 65,
   "id": "76f0bc7c-53f9-4cb8-b800-970c906ebb2b",
   "metadata": {
    "scrolled": true
   },
   "outputs": [
    {
     "ename": "ValueError",
     "evalue": "x and y must have same first dimension, but have shapes (30,) and (29, 1)",
     "output_type": "error",
     "traceback": [
      "\u001b[1;31m---------------------------------------------------------------------------\u001b[0m",
      "\u001b[1;31mValueError\u001b[0m                                Traceback (most recent call last)",
      "Cell \u001b[1;32mIn[65], line 2\u001b[0m\n\u001b[0;32m      1\u001b[0m plt\u001b[38;5;241m.\u001b[39mplot(day_new,scaler\u001b[38;5;241m.\u001b[39minverse_transform(df1[\u001b[38;5;241m1156\u001b[39m:]))\n\u001b[1;32m----> 2\u001b[0m \u001b[43mplt\u001b[49m\u001b[38;5;241;43m.\u001b[39;49m\u001b[43mplot\u001b[49m\u001b[43m(\u001b[49m\u001b[43mday_pred\u001b[49m\u001b[43m,\u001b[49m\u001b[43mscaler\u001b[49m\u001b[38;5;241;43m.\u001b[39;49m\u001b[43minverse_transform\u001b[49m\u001b[43m(\u001b[49m\u001b[43mlst_output\u001b[49m\u001b[43m)\u001b[49m\u001b[43m)\u001b[49m\n",
      "File \u001b[1;32m~\\anaconda3\\Lib\\site-packages\\matplotlib\\pyplot.py:2812\u001b[0m, in \u001b[0;36mplot\u001b[1;34m(scalex, scaley, data, *args, **kwargs)\u001b[0m\n\u001b[0;32m   2810\u001b[0m \u001b[38;5;129m@_copy_docstring_and_deprecators\u001b[39m(Axes\u001b[38;5;241m.\u001b[39mplot)\n\u001b[0;32m   2811\u001b[0m \u001b[38;5;28;01mdef\u001b[39;00m \u001b[38;5;21mplot\u001b[39m(\u001b[38;5;241m*\u001b[39margs, scalex\u001b[38;5;241m=\u001b[39m\u001b[38;5;28;01mTrue\u001b[39;00m, scaley\u001b[38;5;241m=\u001b[39m\u001b[38;5;28;01mTrue\u001b[39;00m, data\u001b[38;5;241m=\u001b[39m\u001b[38;5;28;01mNone\u001b[39;00m, \u001b[38;5;241m*\u001b[39m\u001b[38;5;241m*\u001b[39mkwargs):\n\u001b[1;32m-> 2812\u001b[0m     \u001b[38;5;28;01mreturn\u001b[39;00m \u001b[43mgca\u001b[49m\u001b[43m(\u001b[49m\u001b[43m)\u001b[49m\u001b[38;5;241;43m.\u001b[39;49m\u001b[43mplot\u001b[49m\u001b[43m(\u001b[49m\n\u001b[0;32m   2813\u001b[0m \u001b[43m        \u001b[49m\u001b[38;5;241;43m*\u001b[39;49m\u001b[43margs\u001b[49m\u001b[43m,\u001b[49m\u001b[43m \u001b[49m\u001b[43mscalex\u001b[49m\u001b[38;5;241;43m=\u001b[39;49m\u001b[43mscalex\u001b[49m\u001b[43m,\u001b[49m\u001b[43m \u001b[49m\u001b[43mscaley\u001b[49m\u001b[38;5;241;43m=\u001b[39;49m\u001b[43mscaley\u001b[49m\u001b[43m,\u001b[49m\n\u001b[0;32m   2814\u001b[0m \u001b[43m        \u001b[49m\u001b[38;5;241;43m*\u001b[39;49m\u001b[38;5;241;43m*\u001b[39;49m\u001b[43m(\u001b[49m\u001b[43m{\u001b[49m\u001b[38;5;124;43m\"\u001b[39;49m\u001b[38;5;124;43mdata\u001b[39;49m\u001b[38;5;124;43m\"\u001b[39;49m\u001b[43m:\u001b[49m\u001b[43m \u001b[49m\u001b[43mdata\u001b[49m\u001b[43m}\u001b[49m\u001b[43m \u001b[49m\u001b[38;5;28;43;01mif\u001b[39;49;00m\u001b[43m \u001b[49m\u001b[43mdata\u001b[49m\u001b[43m \u001b[49m\u001b[38;5;129;43;01mis\u001b[39;49;00m\u001b[43m \u001b[49m\u001b[38;5;129;43;01mnot\u001b[39;49;00m\u001b[43m \u001b[49m\u001b[38;5;28;43;01mNone\u001b[39;49;00m\u001b[43m \u001b[49m\u001b[38;5;28;43;01melse\u001b[39;49;00m\u001b[43m \u001b[49m\u001b[43m{\u001b[49m\u001b[43m}\u001b[49m\u001b[43m)\u001b[49m\u001b[43m,\u001b[49m\u001b[43m \u001b[49m\u001b[38;5;241;43m*\u001b[39;49m\u001b[38;5;241;43m*\u001b[39;49m\u001b[43mkwargs\u001b[49m\u001b[43m)\u001b[49m\n",
      "File \u001b[1;32m~\\anaconda3\\Lib\\site-packages\\matplotlib\\axes\\_axes.py:1688\u001b[0m, in \u001b[0;36mAxes.plot\u001b[1;34m(self, scalex, scaley, data, *args, **kwargs)\u001b[0m\n\u001b[0;32m   1445\u001b[0m \u001b[38;5;250m\u001b[39m\u001b[38;5;124;03m\"\"\"\u001b[39;00m\n\u001b[0;32m   1446\u001b[0m \u001b[38;5;124;03mPlot y versus x as lines and/or markers.\u001b[39;00m\n\u001b[0;32m   1447\u001b[0m \n\u001b[1;32m   (...)\u001b[0m\n\u001b[0;32m   1685\u001b[0m \u001b[38;5;124;03m(``'green'``) or hex strings (``'#008000'``).\u001b[39;00m\n\u001b[0;32m   1686\u001b[0m \u001b[38;5;124;03m\"\"\"\u001b[39;00m\n\u001b[0;32m   1687\u001b[0m kwargs \u001b[38;5;241m=\u001b[39m cbook\u001b[38;5;241m.\u001b[39mnormalize_kwargs(kwargs, mlines\u001b[38;5;241m.\u001b[39mLine2D)\n\u001b[1;32m-> 1688\u001b[0m lines \u001b[38;5;241m=\u001b[39m [\u001b[38;5;241m*\u001b[39m\u001b[38;5;28mself\u001b[39m\u001b[38;5;241m.\u001b[39m_get_lines(\u001b[38;5;241m*\u001b[39margs, data\u001b[38;5;241m=\u001b[39mdata, \u001b[38;5;241m*\u001b[39m\u001b[38;5;241m*\u001b[39mkwargs)]\n\u001b[0;32m   1689\u001b[0m \u001b[38;5;28;01mfor\u001b[39;00m line \u001b[38;5;129;01min\u001b[39;00m lines:\n\u001b[0;32m   1690\u001b[0m     \u001b[38;5;28mself\u001b[39m\u001b[38;5;241m.\u001b[39madd_line(line)\n",
      "File \u001b[1;32m~\\anaconda3\\Lib\\site-packages\\matplotlib\\axes\\_base.py:311\u001b[0m, in \u001b[0;36m_process_plot_var_args.__call__\u001b[1;34m(self, data, *args, **kwargs)\u001b[0m\n\u001b[0;32m    309\u001b[0m     this \u001b[38;5;241m+\u001b[39m\u001b[38;5;241m=\u001b[39m args[\u001b[38;5;241m0\u001b[39m],\n\u001b[0;32m    310\u001b[0m     args \u001b[38;5;241m=\u001b[39m args[\u001b[38;5;241m1\u001b[39m:]\n\u001b[1;32m--> 311\u001b[0m \u001b[38;5;28;01myield from\u001b[39;00m \u001b[38;5;28;43mself\u001b[39;49m\u001b[38;5;241;43m.\u001b[39;49m\u001b[43m_plot_args\u001b[49m\u001b[43m(\u001b[49m\n\u001b[0;32m    312\u001b[0m \u001b[43m    \u001b[49m\u001b[43mthis\u001b[49m\u001b[43m,\u001b[49m\u001b[43m \u001b[49m\u001b[43mkwargs\u001b[49m\u001b[43m,\u001b[49m\u001b[43m \u001b[49m\u001b[43mambiguous_fmt_datakey\u001b[49m\u001b[38;5;241;43m=\u001b[39;49m\u001b[43mambiguous_fmt_datakey\u001b[49m\u001b[43m)\u001b[49m\n",
      "File \u001b[1;32m~\\anaconda3\\Lib\\site-packages\\matplotlib\\axes\\_base.py:504\u001b[0m, in \u001b[0;36m_process_plot_var_args._plot_args\u001b[1;34m(self, tup, kwargs, return_kwargs, ambiguous_fmt_datakey)\u001b[0m\n\u001b[0;32m    501\u001b[0m     \u001b[38;5;28mself\u001b[39m\u001b[38;5;241m.\u001b[39maxes\u001b[38;5;241m.\u001b[39myaxis\u001b[38;5;241m.\u001b[39mupdate_units(y)\n\u001b[0;32m    503\u001b[0m \u001b[38;5;28;01mif\u001b[39;00m x\u001b[38;5;241m.\u001b[39mshape[\u001b[38;5;241m0\u001b[39m] \u001b[38;5;241m!=\u001b[39m y\u001b[38;5;241m.\u001b[39mshape[\u001b[38;5;241m0\u001b[39m]:\n\u001b[1;32m--> 504\u001b[0m     \u001b[38;5;28;01mraise\u001b[39;00m \u001b[38;5;167;01mValueError\u001b[39;00m(\u001b[38;5;124mf\u001b[39m\u001b[38;5;124m\"\u001b[39m\u001b[38;5;124mx and y must have same first dimension, but \u001b[39m\u001b[38;5;124m\"\u001b[39m\n\u001b[0;32m    505\u001b[0m                      \u001b[38;5;124mf\u001b[39m\u001b[38;5;124m\"\u001b[39m\u001b[38;5;124mhave shapes \u001b[39m\u001b[38;5;132;01m{\u001b[39;00mx\u001b[38;5;241m.\u001b[39mshape\u001b[38;5;132;01m}\u001b[39;00m\u001b[38;5;124m and \u001b[39m\u001b[38;5;132;01m{\u001b[39;00my\u001b[38;5;241m.\u001b[39mshape\u001b[38;5;132;01m}\u001b[39;00m\u001b[38;5;124m\"\u001b[39m)\n\u001b[0;32m    506\u001b[0m \u001b[38;5;28;01mif\u001b[39;00m x\u001b[38;5;241m.\u001b[39mndim \u001b[38;5;241m>\u001b[39m \u001b[38;5;241m2\u001b[39m \u001b[38;5;129;01mor\u001b[39;00m y\u001b[38;5;241m.\u001b[39mndim \u001b[38;5;241m>\u001b[39m \u001b[38;5;241m2\u001b[39m:\n\u001b[0;32m    507\u001b[0m     \u001b[38;5;28;01mraise\u001b[39;00m \u001b[38;5;167;01mValueError\u001b[39;00m(\u001b[38;5;124mf\u001b[39m\u001b[38;5;124m\"\u001b[39m\u001b[38;5;124mx and y can be no greater than 2D, but have \u001b[39m\u001b[38;5;124m\"\u001b[39m\n\u001b[0;32m    508\u001b[0m                      \u001b[38;5;124mf\u001b[39m\u001b[38;5;124m\"\u001b[39m\u001b[38;5;124mshapes \u001b[39m\u001b[38;5;132;01m{\u001b[39;00mx\u001b[38;5;241m.\u001b[39mshape\u001b[38;5;132;01m}\u001b[39;00m\u001b[38;5;124m and \u001b[39m\u001b[38;5;132;01m{\u001b[39;00my\u001b[38;5;241m.\u001b[39mshape\u001b[38;5;132;01m}\u001b[39;00m\u001b[38;5;124m\"\u001b[39m)\n",
      "\u001b[1;31mValueError\u001b[0m: x and y must have same first dimension, but have shapes (30,) and (29, 1)"
     ]
    },
    {
     "data": {
      "image/png": "[encoded data removed]",
      "text/plain": [
       "<Figure size 640x480 with 1 Axes>"
      ]
     },
     "metadata": {},
     "output_type": "display_data"
    }
   ],
   "source": [
    "plt.plot(day_new,scaler.inverse_transform(df1[1156:]))\n",
    "plt.plot(day_pred,scaler.inverse_transform(lst_output))"
   ]
  },
  {
   "cell_type": "code",
   "execution_count": 66,
   "id": "b0a1e32d-1286-4bd9-8995-8d282108cd3c",
   "metadata": {},
   "outputs": [
    {
     "data": {
      "text/plain": [
       "[<matplotlib.lines.Line2D at 0x181724621d0>]"
      ]
     },
     "execution_count": 66,
     "metadata": {},
     "output_type": "execute_result"
    },
    {
     "data": {
      "image/png": "[encoded data removed]",
      "text/plain": [
       "<Figure size 640x480 with 1 Axes>"
      ]
     },
     "metadata": {},
     "output_type": "display_data"
    }
   ],
   "source": [
    "df3=df1.tolist()\n",
    "df3.extend(lst_output)\n",
    "plt.plot(df3[1200:])"
   ]
  },
  {
   "cell_type": "code",
   "execution_count": 67,
   "id": "076e855f-de8a-4370-84ac-cc52465f8226",
   "metadata": {},
   "outputs": [],
   "source": [
    "df3=scaler.inverse_transform(df3).tolist()\n"
   ]
  },
  {
   "cell_type": "code",
   "execution_count": 68,
   "id": "90fa69d2-88a9-43bc-8268-2a4c3917d04d",
   "metadata": {},
   "outputs": [
    {
     "data": {
      "text/plain": [
       "[<matplotlib.lines.Line2D at 0x181724f7010>]"
      ]
     },
     "execution_count": 68,
     "metadata": {},
     "output_type": "execute_result"
    },
    {
     "data": {
      "image/png": "[encoded data removed]",
      "text/plain": [
       "<Figure size 640x480 with 1 Axes>"
      ]
     },
     "metadata": {},
     "output_type": "display_data"
    }
   ],
   "source": [
    "plt.plot(df3)"
   ]
  },
  {
   "cell_type": "code",
   "execution_count": null,
   "id": "db394932-c76d-47e1-9b66-680c837d4aaa",
   "metadata": {},
   "outputs": [],
   "source": []
  }
 ],
 "metadata": {
  "kernelspec": {
   "display_name": "Python 3 (ipykernel)",
   "language": "python",
   "name": "python3"
  },
  "language_info": {
   "codemirror_mode": {
    "name": "ipython",
    "version": 3
   },
   "file_extension": ".py",
   "mimetype": "text/x-python",
   "name": "python",
   "nbconvert_exporter": "python",
   "pygments_lexer": "ipython3",
   "version": "3.11.4"
  }
 },
 "nbformat": 4,
 "nbformat_minor": 5
}
